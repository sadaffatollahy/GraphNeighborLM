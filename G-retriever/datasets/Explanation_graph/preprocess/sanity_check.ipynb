{
 "cells": [
  {
   "cell_type": "code",
   "execution_count": null,
   "metadata": {},
   "outputs": [],
   "source": [
    "import pandas as pd\n",
    "from sklearn.model_selection import train_test_split"
   ]
  },
  {
   "cell_type": "code",
   "execution_count": 5,
   "metadata": {},
   "outputs": [
    {
     "data": {
      "text/html": [
       "<div>\n",
       "<style scoped>\n",
       "    .dataframe tbody tr th:only-of-type {\n",
       "        vertical-align: middle;\n",
       "    }\n",
       "\n",
       "    .dataframe tbody tr th {\n",
       "        vertical-align: top;\n",
       "    }\n",
       "\n",
       "    .dataframe thead th {\n",
       "        text-align: right;\n",
       "    }\n",
       "</style>\n",
       "<table border=\"1\" class=\"dataframe\">\n",
       "  <thead>\n",
       "    <tr style=\"text-align: right;\">\n",
       "      <th></th>\n",
       "      <th>arg1</th>\n",
       "      <th>arg2</th>\n",
       "      <th>label</th>\n",
       "      <th>graph</th>\n",
       "    </tr>\n",
       "  </thead>\n",
       "  <tbody>\n",
       "    <tr>\n",
       "      <th>0</th>\n",
       "      <td>Cannabis should be legal.</td>\n",
       "      <td>It's not a bad thing to make marijuana more av...</td>\n",
       "      <td>support</td>\n",
       "      <td>(cannabis; synonym of; marijuana)(legal; cause...</td>\n",
       "    </tr>\n",
       "    <tr>\n",
       "      <th>1</th>\n",
       "      <td>Women should not be in combat.</td>\n",
       "      <td>Women and men have the same rights.</td>\n",
       "      <td>counter</td>\n",
       "      <td>(women and men; is a; citizens)(citizens; caus...</td>\n",
       "    </tr>\n",
       "    <tr>\n",
       "      <th>2</th>\n",
       "      <td>People will use marijuana independent of its l...</td>\n",
       "      <td>People use marijuana everywhere now.</td>\n",
       "      <td>support</td>\n",
       "      <td>(marijuana; receives action; popular)(popular;...</td>\n",
       "    </tr>\n",
       "    <tr>\n",
       "      <th>3</th>\n",
       "      <td>women should not partake in war</td>\n",
       "      <td>the armed forces are more open to recruiting w...</td>\n",
       "      <td>counter</td>\n",
       "      <td>(armed forces; desires; nurses and helpers)(nu...</td>\n",
       "    </tr>\n",
       "    <tr>\n",
       "      <th>4</th>\n",
       "      <td>Marijuana should not be legalized.</td>\n",
       "      <td>Marijuana is dangerous for society.</td>\n",
       "      <td>support</td>\n",
       "      <td>(marijuana; is a; recreational drug)(recreatio...</td>\n",
       "    </tr>\n",
       "  </tbody>\n",
       "</table>\n",
       "</div>"
      ],
      "text/plain": [
       "                                                arg1  \\\n",
       "0                          Cannabis should be legal.   \n",
       "1                     Women should not be in combat.   \n",
       "2  People will use marijuana independent of its l...   \n",
       "3                    women should not partake in war   \n",
       "4                 Marijuana should not be legalized.   \n",
       "\n",
       "                                                arg2    label  \\\n",
       "0  It's not a bad thing to make marijuana more av...  support   \n",
       "1                Women and men have the same rights.  counter   \n",
       "2               People use marijuana everywhere now.  support   \n",
       "3  the armed forces are more open to recruiting w...  counter   \n",
       "4                Marijuana is dangerous for society.  support   \n",
       "\n",
       "                                               graph  \n",
       "0  (cannabis; synonym of; marijuana)(legal; cause...  \n",
       "1  (women and men; is a; citizens)(citizens; caus...  \n",
       "2  (marijuana; receives action; popular)(popular;...  \n",
       "3  (armed forces; desires; nurses and helpers)(nu...  \n",
       "4  (marijuana; is a; recreational drug)(recreatio...  "
      ]
     },
     "execution_count": 5,
     "metadata": {},
     "output_type": "execute_result"
    }
   ],
   "source": [
    "#original dataset\n",
    "path = '/home/ahmadi/sadaf/GraphNeighborLM/G-retriever/datasets/Explanation_graph'\n",
    "original_dataset = pd.read_csv(f'{path}/train_dev.tsv', sep='\\t')\n",
    "original_dataset.head()\n"
   ]
  },
  {
   "cell_type": "code",
   "execution_count": 6,
   "metadata": {},
   "outputs": [
    {
     "name": "stdout",
     "output_type": "stream",
     "text": [
      "The the shape of original_dataset : (2766, 4)\n"
     ]
    }
   ],
   "source": [
    "print(\"The the shape of original_dataset :\",original_dataset.shape)"
   ]
  },
  {
   "cell_type": "code",
   "execution_count": 7,
   "metadata": {},
   "outputs": [
    {
     "name": "stdout",
     "output_type": "stream",
     "text": [
      "The first original graph is : (cannabis; synonym of; marijuana)(legal; causes; more available)(marijuana; capable of; good thing)(good thing; desires; legal)\n"
     ]
    }
   ],
   "source": [
    "print(\"The first original graph is :\", original_dataset.graph.iloc[0])"
   ]
  },
  {
   "cell_type": "markdown",
   "metadata": {},
   "source": [
    "This graph contains 4 triplets"
   ]
  },
  {
   "cell_type": "markdown",
   "metadata": {},
   "source": [
    "# ***Saniti Test ***"
   ]
  },
  {
   "cell_type": "markdown",
   "metadata": {},
   "source": [
    "The **Sanity Test** is a quick, basic check to verify that the code or functionality works as expected in its simplest form, ensuring there are no critical issues before deeper testing."
   ]
  },
  {
   "cell_type": "code",
   "execution_count": 12,
   "metadata": {},
   "outputs": [],
   "source": [
    "seed = 0\n",
    "percent_data = 0.05\n",
    "dataset_sample = original_dataset.copy(deep=True) # 10% of the dataset to be reserved as the main dataset for this thesis\n",
    "X_train, dataset = train_test_split(dataset_sample, test_size = percent_data, random_state = seed)"
   ]
  },
  {
   "cell_type": "code",
   "execution_count": 13,
   "metadata": {},
   "outputs": [
    {
     "name": "stdout",
     "output_type": "stream",
     "text": [
      "The the shape of dataset : (139, 4)\n"
     ]
    }
   ],
   "source": [
    "print(\"The the shape of dataset :\",dataset.shape)"
   ]
  },
  {
   "cell_type": "code",
   "execution_count": 14,
   "metadata": {},
   "outputs": [
    {
     "data": {
      "text/html": [
       "<div>\n",
       "<style scoped>\n",
       "    .dataframe tbody tr th:only-of-type {\n",
       "        vertical-align: middle;\n",
       "    }\n",
       "\n",
       "    .dataframe tbody tr th {\n",
       "        vertical-align: top;\n",
       "    }\n",
       "\n",
       "    .dataframe thead th {\n",
       "        text-align: right;\n",
       "    }\n",
       "</style>\n",
       "<table border=\"1\" class=\"dataframe\">\n",
       "  <thead>\n",
       "    <tr style=\"text-align: right;\">\n",
       "      <th></th>\n",
       "      <th>arg1</th>\n",
       "      <th>arg2</th>\n",
       "      <th>label</th>\n",
       "      <th>graph</th>\n",
       "    </tr>\n",
       "  </thead>\n",
       "  <tbody>\n",
       "    <tr>\n",
       "      <th>1436</th>\n",
       "      <td>Organ acquisition in the market makes it easie...</td>\n",
       "      <td>Sale of organ in the market makes it easy to g...</td>\n",
       "      <td>support</td>\n",
       "      <td>(organ acquisition; capable of; more organs av...</td>\n",
       "    </tr>\n",
       "    <tr>\n",
       "      <th>817</th>\n",
       "      <td>the three strikes law is not fair.</td>\n",
       "      <td>The three strikes law keeps people safe.</td>\n",
       "      <td>counter</td>\n",
       "      <td>(three strikes law; capable of; keeps people s...</td>\n",
       "    </tr>\n",
       "    <tr>\n",
       "      <th>2708</th>\n",
       "      <td>Cloning is inherently decreasing quality</td>\n",
       "      <td>Getting your original out of the copier and pu...</td>\n",
       "      <td>support</td>\n",
       "      <td>(cloning; synonym of; copy)(copy; capable of; ...</td>\n",
       "    </tr>\n",
       "    <tr>\n",
       "      <th>2199</th>\n",
       "      <td>Three-strike laws help reduce crime rates.</td>\n",
       "      <td>To say that three-strike laws reduce crime rat...</td>\n",
       "      <td>counter</td>\n",
       "      <td>(three-strike laws; not capable of; assist)(as...</td>\n",
       "    </tr>\n",
       "    <tr>\n",
       "      <th>1074</th>\n",
       "      <td>Telemarketing is fast, safe and reliable.</td>\n",
       "      <td>Telemarketing helps business advertise and get...</td>\n",
       "      <td>support</td>\n",
       "      <td>(telemarketing; capable of; secure)(secure; ha...</td>\n",
       "    </tr>\n",
       "  </tbody>\n",
       "</table>\n",
       "</div>"
      ],
      "text/plain": [
       "                                                   arg1  \\\n",
       "1436  Organ acquisition in the market makes it easie...   \n",
       "817                  the three strikes law is not fair.   \n",
       "2708           Cloning is inherently decreasing quality   \n",
       "2199         Three-strike laws help reduce crime rates.   \n",
       "1074          Telemarketing is fast, safe and reliable.   \n",
       "\n",
       "                                                   arg2    label  \\\n",
       "1436  Sale of organ in the market makes it easy to g...  support   \n",
       "817            The three strikes law keeps people safe.  counter   \n",
       "2708  Getting your original out of the copier and pu...  support   \n",
       "2199  To say that three-strike laws reduce crime rat...  counter   \n",
       "1074  Telemarketing helps business advertise and get...  support   \n",
       "\n",
       "                                                  graph  \n",
       "1436  (organ acquisition; capable of; more organs av...  \n",
       "817   (three strikes law; capable of; keeps people s...  \n",
       "2708  (cloning; synonym of; copy)(copy; capable of; ...  \n",
       "2199  (three-strike laws; not capable of; assist)(as...  \n",
       "1074  (telemarketing; capable of; secure)(secure; ha...  "
      ]
     },
     "execution_count": 14,
     "metadata": {},
     "output_type": "execute_result"
    }
   ],
   "source": [
    "dataset.head()"
   ]
  },
  {
   "cell_type": "code",
   "execution_count": 16,
   "metadata": {},
   "outputs": [
    {
     "data": {
      "text/html": [
       "<div>\n",
       "<style scoped>\n",
       "    .dataframe tbody tr th:only-of-type {\n",
       "        vertical-align: middle;\n",
       "    }\n",
       "\n",
       "    .dataframe tbody tr th {\n",
       "        vertical-align: top;\n",
       "    }\n",
       "\n",
       "    .dataframe thead th {\n",
       "        text-align: right;\n",
       "    }\n",
       "</style>\n",
       "<table border=\"1\" class=\"dataframe\">\n",
       "  <thead>\n",
       "    <tr style=\"text-align: right;\">\n",
       "      <th></th>\n",
       "      <th>arg1</th>\n",
       "      <th>arg2</th>\n",
       "      <th>label</th>\n",
       "      <th>graph</th>\n",
       "    </tr>\n",
       "  </thead>\n",
       "  <tbody>\n",
       "    <tr>\n",
       "      <th>0</th>\n",
       "      <td>Organ acquisition in the market makes it easie...</td>\n",
       "      <td>Sale of organ in the market makes it easy to g...</td>\n",
       "      <td>support</td>\n",
       "      <td>(organ acquisition; capable of; more organs av...</td>\n",
       "    </tr>\n",
       "    <tr>\n",
       "      <th>1</th>\n",
       "      <td>the three strikes law is not fair.</td>\n",
       "      <td>The three strikes law keeps people safe.</td>\n",
       "      <td>counter</td>\n",
       "      <td>(three strikes law; capable of; keeps people s...</td>\n",
       "    </tr>\n",
       "    <tr>\n",
       "      <th>2</th>\n",
       "      <td>Cloning is inherently decreasing quality</td>\n",
       "      <td>Getting your original out of the copier and pu...</td>\n",
       "      <td>support</td>\n",
       "      <td>(cloning; synonym of; copy)(copy; capable of; ...</td>\n",
       "    </tr>\n",
       "    <tr>\n",
       "      <th>3</th>\n",
       "      <td>Three-strike laws help reduce crime rates.</td>\n",
       "      <td>To say that three-strike laws reduce crime rat...</td>\n",
       "      <td>counter</td>\n",
       "      <td>(three-strike laws; not capable of; assist)(as...</td>\n",
       "    </tr>\n",
       "    <tr>\n",
       "      <th>4</th>\n",
       "      <td>Telemarketing is fast, safe and reliable.</td>\n",
       "      <td>Telemarketing helps business advertise and get...</td>\n",
       "      <td>support</td>\n",
       "      <td>(telemarketing; capable of; secure)(secure; ha...</td>\n",
       "    </tr>\n",
       "    <tr>\n",
       "      <th>...</th>\n",
       "      <td>...</td>\n",
       "      <td>...</td>\n",
       "      <td>...</td>\n",
       "      <td>...</td>\n",
       "    </tr>\n",
       "    <tr>\n",
       "      <th>134</th>\n",
       "      <td>the military should not be based upon profit.</td>\n",
       "      <td>The military based upon profit would be a disa...</td>\n",
       "      <td>support</td>\n",
       "      <td>(military; made of; independent)(independent; ...</td>\n",
       "    </tr>\n",
       "    <tr>\n",
       "      <th>135</th>\n",
       "      <td>missionary works helps people.</td>\n",
       "      <td>Missionary works helps those who are in need.</td>\n",
       "      <td>support</td>\n",
       "      <td>(missionary works; has subevent; charity work)...</td>\n",
       "    </tr>\n",
       "    <tr>\n",
       "      <th>136</th>\n",
       "      <td>Since payday loans aren't held to the same sta...</td>\n",
       "      <td>Poor people have money emergencies.</td>\n",
       "      <td>counter</td>\n",
       "      <td>(solve emergencies; is a; helpful)(poor people...</td>\n",
       "    </tr>\n",
       "    <tr>\n",
       "      <th>137</th>\n",
       "      <td>If everyone has to use a public defender, it m...</td>\n",
       "      <td>Anyone who can afford it, has the right to any...</td>\n",
       "      <td>counter</td>\n",
       "      <td>(can afford; used for; any defender)(any defen...</td>\n",
       "    </tr>\n",
       "    <tr>\n",
       "      <th>138</th>\n",
       "      <td>People who are vulnerable will be exploited by...</td>\n",
       "      <td>People have the right to choose what to do wit...</td>\n",
       "      <td>counter</td>\n",
       "      <td>(people; desires; right to choose)(right to ch...</td>\n",
       "    </tr>\n",
       "  </tbody>\n",
       "</table>\n",
       "<p>139 rows × 4 columns</p>\n",
       "</div>"
      ],
      "text/plain": [
       "                                                  arg1  \\\n",
       "0    Organ acquisition in the market makes it easie...   \n",
       "1                   the three strikes law is not fair.   \n",
       "2             Cloning is inherently decreasing quality   \n",
       "3           Three-strike laws help reduce crime rates.   \n",
       "4            Telemarketing is fast, safe and reliable.   \n",
       "..                                                 ...   \n",
       "134      the military should not be based upon profit.   \n",
       "135                     missionary works helps people.   \n",
       "136  Since payday loans aren't held to the same sta...   \n",
       "137  If everyone has to use a public defender, it m...   \n",
       "138  People who are vulnerable will be exploited by...   \n",
       "\n",
       "                                                  arg2    label  \\\n",
       "0    Sale of organ in the market makes it easy to g...  support   \n",
       "1             The three strikes law keeps people safe.  counter   \n",
       "2    Getting your original out of the copier and pu...  support   \n",
       "3    To say that three-strike laws reduce crime rat...  counter   \n",
       "4    Telemarketing helps business advertise and get...  support   \n",
       "..                                                 ...      ...   \n",
       "134  The military based upon profit would be a disa...  support   \n",
       "135      Missionary works helps those who are in need.  support   \n",
       "136                Poor people have money emergencies.  counter   \n",
       "137  Anyone who can afford it, has the right to any...  counter   \n",
       "138  People have the right to choose what to do wit...  counter   \n",
       "\n",
       "                                                 graph  \n",
       "0    (organ acquisition; capable of; more organs av...  \n",
       "1    (three strikes law; capable of; keeps people s...  \n",
       "2    (cloning; synonym of; copy)(copy; capable of; ...  \n",
       "3    (three-strike laws; not capable of; assist)(as...  \n",
       "4    (telemarketing; capable of; secure)(secure; ha...  \n",
       "..                                                 ...  \n",
       "134  (military; made of; independent)(independent; ...  \n",
       "135  (missionary works; has subevent; charity work)...  \n",
       "136  (solve emergencies; is a; helpful)(poor people...  \n",
       "137  (can afford; used for; any defender)(any defen...  \n",
       "138  (people; desires; right to choose)(right to ch...  \n",
       "\n",
       "[139 rows x 4 columns]"
      ]
     },
     "execution_count": 16,
     "metadata": {},
     "output_type": "execute_result"
    }
   ],
   "source": [
    "dataset.to_csv(\"/home/ahmadi/sadaf/GraphNeighborLM/G-retriever/datasets/Explanation_graph/sample_train_dev.tsv\", index=False)\n",
    "dataset=pd.read_csv(\"/home/ahmadi/sadaf/GraphNeighborLM/G-retriever/datasets/Explanation_graph/sample_train_dev.tsv\")\n",
    "dataset"
   ]
  },
  {
   "cell_type": "code",
   "execution_count": null,
   "metadata": {},
   "outputs": [],
   "source": []
  }
 ],
 "metadata": {
  "kernelspec": {
   "display_name": "sadafenv2",
   "language": "python",
   "name": "python3"
  },
  "language_info": {
   "codemirror_mode": {
    "name": "ipython",
    "version": 3
   },
   "file_extension": ".py",
   "mimetype": "text/x-python",
   "name": "python",
   "nbconvert_exporter": "python",
   "pygments_lexer": "ipython3",
   "version": "3.10.12"
  }
 },
 "nbformat": 4,
 "nbformat_minor": 2
}
