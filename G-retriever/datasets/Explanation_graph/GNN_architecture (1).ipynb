{
  "cells": [
    {
      "cell_type": "code",
      "execution_count": null,
      "metadata": {
        "id": "mK1Y_JCoWJZ4"
      },
      "outputs": [],
      "source": [
        "import torch\n",
        "import torch.nn.functional as F\n",
        "from torch_geometric.nn import GCNConv, TransformerConv, GATConv"
      ]
    },
    {
      "cell_type": "code",
      "execution_count": null,
      "metadata": {
        "id": "sPQm5crWWBw0"
      },
      "outputs": [],
      "source": [
        "class GCN(torch.nn.Module):\n",
        "    def __init__(self, in_channels, hidden_channels, out_channels, num_layers, dropout, num_heads=-1):\n",
        "      \"\"\"\n",
        "      :param in_channels:Number of input features for each node\n",
        "      :param hidden_channels:Number of input features for each node\n",
        "      :param out_channels:Number of output features for each node\n",
        "      :param num_layers:Total number of graph convolutional layers.\n",
        "      :param dropout:Dropout probability for regularization.\n",
        "      :param num_heads:Dropout probability for regularization.\n",
        "      \"\"\"\n",
        "      super(GCN, self).__init__()\n",
        "      self.convs = torch.nn.ModuleList() #an empty ModuleList to hold the graph convolutional layers (GCNConv).\n",
        "\n",
        "      #First layer:\n",
        "      self.convs.append(GCNConv(in_channels, hidden_channels)) #Adds the first graph convolutional layer to self.convs.\n",
        "      self.bns = torch.nn.ModuleList() # an empty ModuleList to hold the batch normalization layers\n",
        "      self.bns.append(torch.nn.BatchNorm1d(hidden_channels)) #Adds a batch normalization layer to self.bns\n",
        "\n",
        "      #Intermediate layers\n",
        "      for _ in range(num_layers - 2):\n",
        "          self.convs.append(GCNConv(hidden_channels, hidden_channels))\n",
        "          self.bns.append(torch.nn.BatchNorm1d(hidden_channels))\n",
        "\n",
        "      #Final layer\n",
        "      self.convs.append(GCNConv(hidden_channels, out_channels))\n",
        "\n",
        "\n",
        "      self.dropout = dropout #tores the dropout probability for use during the forward pass.\n",
        "\n",
        "    def reset_parameters(self):\n",
        "      \"\"\"model starts training with fresh weights, preventing the influence of previously learned weights from affecting new experiments.\n",
        "      \"\"\"\n",
        "      for conv in self.convs:\n",
        "          conv.reset_parameters()\n",
        "      for bn in self.bns:\n",
        "          bn.reset_parameters()\n",
        "\n",
        "    def forward(self, x, adj_t, edge_attr):\n",
        "      \"\"\"\n",
        "      x:Node feature matrix of shape (num_nodes, in_channels)\n",
        "      adj_t:adjacency matrix in transposed format, representing the graph structure.Encodes which nodes are connected and enables propagation of information between nodes.\n",
        "      edge_attr:Features associated with edges in the graph.\n",
        "      \"\"\"\n",
        "      for i, conv in enumerate(self.convs[:-1]):\n",
        "          x = conv(x, adj_t) #Updates the node features by aggregating information from neighboring nodes and applying a learned transformation.\n",
        "          x = self.bns[i](x)\n",
        "          x = F.relu(x)\n",
        "          x = F.dropout(x, p=self.dropout, training=self.training)\n",
        "      x = self.convs[-1](x, adj_t) #Applies the final graph convolutional layer to produce the output node representations.\n",
        "      return x, edge_attr"
      ]
    },
    {
      "cell_type": "code",
      "execution_count": null,
      "metadata": {
        "id": "E723iK2FoiOU"
      },
      "outputs": [],
      "source": [
        "class GAT(torch.nn.Module):\n",
        "    def __init__(self, in_channels, hidden_channels, out_channels, num_layers, dropout, num_heads=4):\n",
        "        super(GAT, self).__init__()\n",
        "        self.convs = torch.nn.ModuleList()\n",
        "        self.convs.append(GATConv(in_channels, hidden_channels, heads=num_heads, concat=False)) #The outputs of multiple attention heads are averaged (not concatenated) into a single feature vector per node.\n",
        "        self.bns = torch.nn.ModuleList()\n",
        "        self.bns.append(torch.nn.BatchNorm1d(hidden_channels))\n",
        "        for _ in range(num_layers - 2):\n",
        "            self.convs.append(GATConv(hidden_channels, hidden_channels, heads=num_heads, concat=False))\n",
        "            self.bns.append(torch.nn.BatchNorm1d(hidden_channels))\n",
        "        self.convs.append(GATConv(hidden_channels, out_channels, heads=num_heads, concat=False))\n",
        "        self.dropout = dropout\n",
        "\n",
        "    def reset_parameters(self):\n",
        "        for conv in self.convs:\n",
        "            conv.reset_parameters()\n",
        "        for bn in self.bns:\n",
        "            bn.reset_parameters()\n",
        "\n",
        "    def forward(self, x, edge_index, edge_attr):\n",
        "        for i, conv in enumerate(self.convs[:-1]):\n",
        "            x = conv(x, edge_index=edge_index, edge_attr=edge_attr)\n",
        "            x = self.bns[i](x)\n",
        "            x = F.relu(x)\n",
        "            x = F.dropout(x, p=self.dropout, training=self.training)\n",
        "        x = self.convs[-1](x,edge_index=edge_index, edge_attr=edge_attr)\n",
        "        return x, edge_attr"
      ]
    },
    {
      "cell_type": "code",
      "execution_count": null,
      "metadata": {
        "id": "HzudxYGX3ZSH"
      },
      "outputs": [],
      "source": [
        "class GraphTransformer(torch.nn.Module):\n",
        "    def __init__(self, in_channels, hidden_channels, out_channels, num_layers, dropout, num_heads=-1):  # num_heads=-1 : when model create we should define it\n",
        "        super(GraphTransformer, self).__init__()\n",
        "        self.convs = torch.nn.ModuleList()\n",
        "        self.convs.append(TransformerConv(in_channels=in_channels, out_channels=hidden_channels//num_heads, heads=num_heads, edge_dim=in_channels, dropout=dropout)) #edge_dim : to influence edge attribute\n",
        "        self.bns = torch.nn.ModuleList()\n",
        "        self.bns.append(torch.nn.BatchNorm1d(hidden_channels))\n",
        "        for _ in range(num_layers - 2):\n",
        "            self.convs.append(TransformerConv(in_channels=hidden_channels, out_channels=hidden_channels//num_heads, heads=num_heads, edge_dim=in_channels, dropout=dropout,))\n",
        "            self.bns.append(torch.nn.BatchNorm1d(hidden_channels))\n",
        "        self.convs.append(TransformerConv(in_channels=hidden_channels, out_channels=out_channels//num_heads, heads=num_heads, edge_dim=in_channels, dropout=dropout,))\n",
        "        self.dropout = dropout\n",
        "\n",
        "    def reset_parameters(self):\n",
        "        for conv in self.convs:\n",
        "            conv.reset_parameters()\n",
        "        for bn in self.bns:\n",
        "            bn.reset_parameters()\n",
        "\n",
        "    def forward(self, x, adj_t, edge_attr):\n",
        "        for i, conv in enumerate(self.convs[:-1]):\n",
        "            x = conv(x, edge_index=adj_t, edge_attr=edge_attr)\n",
        "            x = self.bns[i](x)\n",
        "            x = F.relu(x)\n",
        "            x = F.dropout(x, p=self.dropout, training=self.training)\n",
        "        x = self.convs[-1](x, edge_index=adj_t, edge_attr=edge_attr)\n",
        "        return x, edge_attr"
      ]
    },
    {
      "cell_type": "code",
      "execution_count": null,
      "metadata": {
        "id": "EAkFpKjT36_r"
      },
      "outputs": [],
      "source": [
        "load_gnn_model = {\n",
        "    'gcn': GCN,\n",
        "    'gat': GAT,\n",
        "    'gt': GraphTransformer,\n",
        "}"
      ]
    }
  ],
  "metadata": {
    "colab": {
      "provenance": []
    },
    "kernelspec": {
      "display_name": "sadafenv",
      "language": "python",
      "name": "python3"
    },
    "language_info": {
      "name": "python",
      "version": "3.10.12"
    }
  },
  "nbformat": 4,
  "nbformat_minor": 0
}
