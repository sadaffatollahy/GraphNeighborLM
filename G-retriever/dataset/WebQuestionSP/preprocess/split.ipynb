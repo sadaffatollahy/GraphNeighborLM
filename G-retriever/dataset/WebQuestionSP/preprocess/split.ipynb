{
 "cells": [
  {
   "cell_type": "code",
   "execution_count": 1,
   "metadata": {},
   "outputs": [
    {
     "name": "stderr",
     "output_type": "stream",
     "text": [
      "/vol/hd1/users/ahmadi/sadaf/GraphNeighborLM/sadafenv2/lib/python3.10/site-packages/tqdm/auto.py:21: TqdmWarning: IProgress not found. Please update jupyter and ipywidgets. See https://ipywidgets.readthedocs.io/en/stable/user_install.html\n",
      "  from .autonotebook import tqdm as notebook_tqdm\n"
     ]
    }
   ],
   "source": [
    "import os\n",
    "import pandas as pd\n",
    "import numpy as np\n",
    "from tqdm import tqdm\n",
    "import torch\n",
    "from datasets import load_dataset, concatenate_datasets\n",
    "from torch_geometric.data import Data\n",
    "from sklearn.model_selection import train_test_split\n",
    "from datasets import Dataset, DatasetDict, load_from_disk\n",
    "from torch import nn\n",
    "import torch.nn.functional as F\n",
    "from transformers import AutoModel, AutoTokenizer\n",
    "from torch.utils.data import DataLoader\n",
    "import torch\n",
    "import numpy as np\n",
    "from pcst_fast import pcst_fast\n",
    "from torch_geometric.data.data import Data"
   ]
  },
  {
   "cell_type": "code",
   "execution_count": 8,
   "metadata": {},
   "outputs": [],
   "source": [
    "dataset = load_dataset(\"rmanluo/RoG-webqsp\")"
   ]
  },
  {
   "cell_type": "code",
   "execution_count": 9,
   "metadata": {},
   "outputs": [
    {
     "data": {
      "text/plain": [
       "DatasetDict({\n",
       "    train: Dataset({\n",
       "        features: ['id', 'question', 'answer', 'q_entity', 'a_entity', 'graph', 'choices'],\n",
       "        num_rows: 2826\n",
       "    })\n",
       "    validation: Dataset({\n",
       "        features: ['id', 'question', 'answer', 'q_entity', 'a_entity', 'graph', 'choices'],\n",
       "        num_rows: 246\n",
       "    })\n",
       "    test: Dataset({\n",
       "        features: ['id', 'question', 'answer', 'q_entity', 'a_entity', 'graph', 'choices'],\n",
       "        num_rows: 1628\n",
       "    })\n",
       "})"
      ]
     },
     "execution_count": 9,
     "metadata": {},
     "output_type": "execute_result"
    }
   ],
   "source": [
    "dataset"
   ]
  },
  {
   "cell_type": "code",
   "execution_count": 10,
   "metadata": {},
   "outputs": [
    {
     "data": {
      "text/plain": [
       "Dataset({\n",
       "    features: ['id', 'question', 'answer', 'q_entity', 'a_entity', 'graph', 'choices'],\n",
       "    num_rows: 4700\n",
       "})"
      ]
     },
     "execution_count": 10,
     "metadata": {},
     "output_type": "execute_result"
    }
   ],
   "source": [
    "dataset = concatenate_datasets([dataset['train'], dataset['validation'], dataset['test']])\n",
    "dataset"
   ]
  },
  {
   "cell_type": "code",
   "execution_count": 11,
   "metadata": {},
   "outputs": [],
   "source": [
    "seed = 0\n",
    "percent_data = 0.02\n",
    "# 10% of the dataset to be reserved as the main dataset for this thesis\n",
    "train_test_split = dataset.train_test_split(test_size=percent_data, seed=seed)\n",
    "\n",
    "X_train = train_test_split['train']\n",
    "dataset = train_test_split['test']"
   ]
  },
  {
   "cell_type": "code",
   "execution_count": 12,
   "metadata": {},
   "outputs": [
    {
     "data": {
      "text/plain": [
       "Dataset({\n",
       "    features: ['id', 'question', 'answer', 'q_entity', 'a_entity', 'graph', 'choices'],\n",
       "    num_rows: 94\n",
       "})"
      ]
     },
     "execution_count": 12,
     "metadata": {},
     "output_type": "execute_result"
    }
   ],
   "source": [
    "\n",
    "dataset"
   ]
  },
  {
   "cell_type": "code",
   "execution_count": 13,
   "metadata": {},
   "outputs": [],
   "source": [
    "# تعداد داده‌های موردنظر\n",
    "train_size = 47\n",
    "val_size = 20\n",
    "test_size = 27\n",
    "\n",
    "# انتخاب داده‌ها\n",
    "train_data = dataset.select(range(train_size))\n",
    "val_data = dataset.select(range(train_size, train_size + val_size))\n",
    "test_data = dataset.select(range(train_size + val_size, train_size + val_size + test_size))\n",
    "\n",
    "\n",
    "# Combine the splits into a DatasetDict\n",
    "sample_dataset = DatasetDict({\n",
    "    \"train\": train_data,\n",
    "    \"validation\": val_data,\n",
    "    \"test\":test_data\n",
    "})\n"
   ]
  },
  {
   "cell_type": "code",
   "execution_count": 14,
   "metadata": {},
   "outputs": [
    {
     "data": {
      "text/plain": [
       "DatasetDict({\n",
       "    train: Dataset({\n",
       "        features: ['id', 'question', 'answer', 'q_entity', 'a_entity', 'graph', 'choices'],\n",
       "        num_rows: 47\n",
       "    })\n",
       "    validation: Dataset({\n",
       "        features: ['id', 'question', 'answer', 'q_entity', 'a_entity', 'graph', 'choices'],\n",
       "        num_rows: 20\n",
       "    })\n",
       "    test: Dataset({\n",
       "        features: ['id', 'question', 'answer', 'q_entity', 'a_entity', 'graph', 'choices'],\n",
       "        num_rows: 27\n",
       "    })\n",
       "})"
      ]
     },
     "execution_count": 14,
     "metadata": {},
     "output_type": "execute_result"
    }
   ],
   "source": [
    "sample_dataset"
   ]
  },
  {
   "cell_type": "code",
   "execution_count": 15,
   "metadata": {},
   "outputs": [],
   "source": [
    "model_name = 'sbert'\n",
    "path = '/home/ahmadi/sadaf/GraphNeighborLM/G-retriever/dataset/WebQuestionSP'\n",
    "path_nodes = f'{path}/nodes'\n",
    "path_edges = f'{path}/edges'\n",
    "path_graphs = f'{path}/graphs'"
   ]
  },
  {
   "cell_type": "code",
   "execution_count": 16,
   "metadata": {},
   "outputs": [
    {
     "name": "stderr",
     "output_type": "stream",
     "text": [
      "Saving the dataset (1/1 shards): 100%|██████████| 47/47 [00:00<00:00, 814.75 examples/s]\n",
      "Saving the dataset (1/1 shards): 100%|██████████| 20/20 [00:00<00:00, 1003.94 examples/s]\n",
      "Saving the dataset (1/1 shards): 100%|██████████| 27/27 [00:00<00:00, 1239.30 examples/s]\n"
     ]
    }
   ],
   "source": [
    "from datasets import DatasetDict\n",
    "\n",
    "sample_dataset.save_to_disk(f'{path}/processed_dataset')\n"
   ]
  },
  {
   "cell_type": "code",
   "execution_count": null,
   "metadata": {},
   "outputs": [],
   "source": []
  }
 ],
 "metadata": {
  "kernelspec": {
   "display_name": "sadafenv2",
   "language": "python",
   "name": "python3"
  },
  "language_info": {
   "codemirror_mode": {
    "name": "ipython",
    "version": 3
   },
   "file_extension": ".py",
   "mimetype": "text/x-python",
   "name": "python",
   "nbconvert_exporter": "python",
   "pygments_lexer": "ipython3",
   "version": "3.10.12"
  }
 },
 "nbformat": 4,
 "nbformat_minor": 2
}
