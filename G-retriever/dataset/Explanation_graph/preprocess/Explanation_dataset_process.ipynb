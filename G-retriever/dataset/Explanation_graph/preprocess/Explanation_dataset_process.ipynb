{
  "cells": [
    {
      "cell_type": "markdown",
      "metadata": {
        "id": "kqAD5AW9t_Z9"
      },
      "source": [
        "In this notebook we prepare Explanation dataset\n",
        "\n",
        "\n",
        "*   first use sanity test for creating small dataset\n",
        "*   second  preprocess dataset\n",
        "*   third  use sbert to create embedding for nodes and edges\n",
        "\n",
        "\n"
      ]
    },
    {
      "cell_type": "code",
      "execution_count": 1,
      "metadata": {
        "id": "hgOumsDruRWy"
      },
      "outputs": [],
      "source": [
        "import re\n",
        "import os\n",
        "import torch\n",
        "import pandas as pd\n",
        "import numpy as np\n",
        "from sklearn.model_selection import train_test_split\n",
        "from tqdm import tqdm\n",
        "from torch_geometric.data.data import Data\n",
        "import torch\n",
        "from torch import nn\n",
        "import torch.nn.functional as F\n",
        "from transformers import AutoModel, AutoTokenizer\n",
        "from torch.utils.data import DataLoader\n",
        "import numpy as np\n",
        "import glob #finding files and directories whose names match a specified pattern."
      ]
    },
    {
      "cell_type": "markdown",
      "metadata": {
        "id": "iz7WCbhTv7E0"
      },
      "source": [
        "Original Dataset"
      ]
    },
    {
      "cell_type": "code",
      "execution_count": 2,
      "metadata": {
        "colab": {
          "base_uri": "https://localhost:8080/",
          "height": 293
        },
        "id": "hVjOXbwcuu4T",
        "outputId": "237027f7-8ee7-414b-d455-f686abc07927"
      },
      "outputs": [
        {
          "data": {
            "text/html": [
              "<div>\n",
              "<style scoped>\n",
              "    .dataframe tbody tr th:only-of-type {\n",
              "        vertical-align: middle;\n",
              "    }\n",
              "\n",
              "    .dataframe tbody tr th {\n",
              "        vertical-align: top;\n",
              "    }\n",
              "\n",
              "    .dataframe thead th {\n",
              "        text-align: right;\n",
              "    }\n",
              "</style>\n",
              "<table border=\"1\" class=\"dataframe\">\n",
              "  <thead>\n",
              "    <tr style=\"text-align: right;\">\n",
              "      <th></th>\n",
              "      <th>arg1</th>\n",
              "      <th>arg2</th>\n",
              "      <th>label</th>\n",
              "      <th>graph</th>\n",
              "    </tr>\n",
              "  </thead>\n",
              "  <tbody>\n",
              "    <tr>\n",
              "      <th>0</th>\n",
              "      <td>Cannabis should be legal.</td>\n",
              "      <td>It's not a bad thing to make marijuana more av...</td>\n",
              "      <td>support</td>\n",
              "      <td>(cannabis; synonym of; marijuana)(legal; cause...</td>\n",
              "    </tr>\n",
              "    <tr>\n",
              "      <th>1</th>\n",
              "      <td>Women should not be in combat.</td>\n",
              "      <td>Women and men have the same rights.</td>\n",
              "      <td>counter</td>\n",
              "      <td>(women and men; is a; citizens)(citizens; caus...</td>\n",
              "    </tr>\n",
              "    <tr>\n",
              "      <th>2</th>\n",
              "      <td>People will use marijuana independent of its l...</td>\n",
              "      <td>People use marijuana everywhere now.</td>\n",
              "      <td>support</td>\n",
              "      <td>(marijuana; receives action; popular)(popular;...</td>\n",
              "    </tr>\n",
              "    <tr>\n",
              "      <th>3</th>\n",
              "      <td>women should not partake in war</td>\n",
              "      <td>the armed forces are more open to recruiting w...</td>\n",
              "      <td>counter</td>\n",
              "      <td>(armed forces; desires; nurses and helpers)(nu...</td>\n",
              "    </tr>\n",
              "    <tr>\n",
              "      <th>4</th>\n",
              "      <td>Marijuana should not be legalized.</td>\n",
              "      <td>Marijuana is dangerous for society.</td>\n",
              "      <td>support</td>\n",
              "      <td>(marijuana; is a; recreational drug)(recreatio...</td>\n",
              "    </tr>\n",
              "  </tbody>\n",
              "</table>\n",
              "</div>"
            ],
            "text/plain": [
              "                                                arg1  \\\n",
              "0                          Cannabis should be legal.   \n",
              "1                     Women should not be in combat.   \n",
              "2  People will use marijuana independent of its l...   \n",
              "3                    women should not partake in war   \n",
              "4                 Marijuana should not be legalized.   \n",
              "\n",
              "                                                arg2    label  \\\n",
              "0  It's not a bad thing to make marijuana more av...  support   \n",
              "1                Women and men have the same rights.  counter   \n",
              "2               People use marijuana everywhere now.  support   \n",
              "3  the armed forces are more open to recruiting w...  counter   \n",
              "4                Marijuana is dangerous for society.  support   \n",
              "\n",
              "                                               graph  \n",
              "0  (cannabis; synonym of; marijuana)(legal; cause...  \n",
              "1  (women and men; is a; citizens)(citizens; caus...  \n",
              "2  (marijuana; receives action; popular)(popular;...  \n",
              "3  (armed forces; desires; nurses and helpers)(nu...  \n",
              "4  (marijuana; is a; recreational drug)(recreatio...  "
            ]
          },
          "execution_count": 2,
          "metadata": {},
          "output_type": "execute_result"
        }
      ],
      "source": [
        "path = '/home/ahmadi/sadaf/GraphNeighborLM/G-retriever/datasets/Explanation_graph'\n",
        "original_dataset = pd.read_csv(f'{path}/train_dev.tsv', sep='\\t')\n",
        "\n",
        "original_dataset.head()"
      ]
    },
    {
      "cell_type": "code",
      "execution_count": 3,
      "metadata": {
        "colab": {
          "base_uri": "https://localhost:8080/"
        },
        "id": "jEroEB4iwHLH",
        "outputId": "bbe0837a-4c7b-4505-ee5f-126178e9472f"
      },
      "outputs": [
        {
          "name": "stdout",
          "output_type": "stream",
          "text": [
            "The the shape of original_dataset : (2766, 4)\n"
          ]
        }
      ],
      "source": [
        "print(\"The the shape of original_dataset :\",original_dataset.shape)"
      ]
    },
    {
      "cell_type": "code",
      "execution_count": 4,
      "metadata": {
        "colab": {
          "base_uri": "https://localhost:8080/"
        },
        "id": "QRtgnIlcwzoZ",
        "outputId": "06e1d45c-8a2c-401e-c29d-62d16f3f74e5"
      },
      "outputs": [
        {
          "name": "stdout",
          "output_type": "stream",
          "text": [
            "The first original graph is : (cannabis; synonym of; marijuana)(legal; causes; more available)(marijuana; capable of; good thing)(good thing; desires; legal)\n"
          ]
        }
      ],
      "source": [
        "print(\"The first original graph is :\", original_dataset.graph.iloc[0])"
      ]
    },
    {
      "cell_type": "markdown",
      "metadata": {
        "id": "GK0_IxkpxWvl"
      },
      "source": [
        "This graph contains 4 triplets"
      ]
    },
    {
      "cell_type": "markdown",
      "metadata": {
        "id": "MURYxRYYxj-F"
      },
      "source": [
        "# ***Saniti Test ***"
      ]
    },
    {
      "cell_type": "markdown",
      "metadata": {
        "id": "1xaX2Vwaxzd6"
      },
      "source": [
        "The **Sanity Test** is a quick, basic check to verify that the code or functionality works as expected in its simplest form, ensuring there are no critical issues before deeper testing."
      ]
    },
    {
      "cell_type": "code",
      "execution_count": 5,
      "metadata": {
        "id": "EcnjcwLPxMqG"
      },
      "outputs": [],
      "source": [
        "seed = 0\n",
        "percent_data = 0.1\n",
        "dataset_sample = original_dataset.copy(deep=True) # 10% of the dataset to be reserved as the main dataset for this thesis\n",
        "X_train, dataset = train_test_split(dataset_sample, test_size = percent_data, random_state = seed)"
      ]
    },
    {
      "cell_type": "code",
      "execution_count": 6,
      "metadata": {
        "colab": {
          "base_uri": "https://localhost:8080/"
        },
        "id": "TTORHFjOzXZR",
        "outputId": "5442a0f8-44e9-4858-fdcc-5a1bce31ae34"
      },
      "outputs": [
        {
          "name": "stdout",
          "output_type": "stream",
          "text": [
            "The the shape of dataset : (277, 4)\n"
          ]
        }
      ],
      "source": [
        "print(\"The the shape of dataset :\",dataset.shape)"
      ]
    },
    {
      "cell_type": "code",
      "execution_count": 7,
      "metadata": {
        "colab": {
          "base_uri": "https://localhost:8080/",
          "height": 310
        },
        "id": "qi7ENRR000D0",
        "outputId": "45bf39c6-f01f-4732-deaa-e636ae1c6fd1"
      },
      "outputs": [
        {
          "data": {
            "text/html": [
              "<div>\n",
              "<style scoped>\n",
              "    .dataframe tbody tr th:only-of-type {\n",
              "        vertical-align: middle;\n",
              "    }\n",
              "\n",
              "    .dataframe tbody tr th {\n",
              "        vertical-align: top;\n",
              "    }\n",
              "\n",
              "    .dataframe thead th {\n",
              "        text-align: right;\n",
              "    }\n",
              "</style>\n",
              "<table border=\"1\" class=\"dataframe\">\n",
              "  <thead>\n",
              "    <tr style=\"text-align: right;\">\n",
              "      <th></th>\n",
              "      <th>arg1</th>\n",
              "      <th>arg2</th>\n",
              "      <th>label</th>\n",
              "      <th>graph</th>\n",
              "    </tr>\n",
              "  </thead>\n",
              "  <tbody>\n",
              "    <tr>\n",
              "      <th>1436</th>\n",
              "      <td>Organ acquisition in the market makes it easie...</td>\n",
              "      <td>Sale of organ in the market makes it easy to g...</td>\n",
              "      <td>support</td>\n",
              "      <td>(organ acquisition; capable of; more organs av...</td>\n",
              "    </tr>\n",
              "    <tr>\n",
              "      <th>817</th>\n",
              "      <td>the three strikes law is not fair.</td>\n",
              "      <td>The three strikes law keeps people safe.</td>\n",
              "      <td>counter</td>\n",
              "      <td>(three strikes law; capable of; keeps people s...</td>\n",
              "    </tr>\n",
              "    <tr>\n",
              "      <th>2708</th>\n",
              "      <td>Cloning is inherently decreasing quality</td>\n",
              "      <td>Getting your original out of the copier and pu...</td>\n",
              "      <td>support</td>\n",
              "      <td>(cloning; synonym of; copy)(copy; capable of; ...</td>\n",
              "    </tr>\n",
              "    <tr>\n",
              "      <th>2199</th>\n",
              "      <td>Three-strike laws help reduce crime rates.</td>\n",
              "      <td>To say that three-strike laws reduce crime rat...</td>\n",
              "      <td>counter</td>\n",
              "      <td>(three-strike laws; not capable of; assist)(as...</td>\n",
              "    </tr>\n",
              "    <tr>\n",
              "      <th>1074</th>\n",
              "      <td>Telemarketing is fast, safe and reliable.</td>\n",
              "      <td>Telemarketing helps business advertise and get...</td>\n",
              "      <td>support</td>\n",
              "      <td>(telemarketing; capable of; secure)(secure; ha...</td>\n",
              "    </tr>\n",
              "  </tbody>\n",
              "</table>\n",
              "</div>"
            ],
            "text/plain": [
              "                                                   arg1  \\\n",
              "1436  Organ acquisition in the market makes it easie...   \n",
              "817                  the three strikes law is not fair.   \n",
              "2708           Cloning is inherently decreasing quality   \n",
              "2199         Three-strike laws help reduce crime rates.   \n",
              "1074          Telemarketing is fast, safe and reliable.   \n",
              "\n",
              "                                                   arg2    label  \\\n",
              "1436  Sale of organ in the market makes it easy to g...  support   \n",
              "817            The three strikes law keeps people safe.  counter   \n",
              "2708  Getting your original out of the copier and pu...  support   \n",
              "2199  To say that three-strike laws reduce crime rat...  counter   \n",
              "1074  Telemarketing helps business advertise and get...  support   \n",
              "\n",
              "                                                  graph  \n",
              "1436  (organ acquisition; capable of; more organs av...  \n",
              "817   (three strikes law; capable of; keeps people s...  \n",
              "2708  (cloning; synonym of; copy)(copy; capable of; ...  \n",
              "2199  (three-strike laws; not capable of; assist)(as...  \n",
              "1074  (telemarketing; capable of; secure)(secure; ha...  "
            ]
          },
          "execution_count": 7,
          "metadata": {},
          "output_type": "execute_result"
        }
      ],
      "source": [
        "dataset.head()"
      ]
    },
    {
      "cell_type": "code",
      "execution_count": 8,
      "metadata": {
        "id": "8ArLGDmY04St"
      },
      "outputs": [],
      "source": [
        "dataset.to_csv(\"/home/ahmadi/sadaf/GraphNeighborLM/G-retriever/datasets/Explanation_graph/sample_train_dev.tsv\", index=False)\n",
        "dataset=pd.read_csv(\"/home/ahmadi/sadaf/GraphNeighborLM/G-retriever/datasets/Explanation_graph/sample_train_dev.tsv\")"
      ]
    },
    {
      "cell_type": "markdown",
      "metadata": {
        "id": "URYFjCV3-vXX"
      },
      "source": [
        "Save indices of train, val, test in txt file"
      ]
    },
    {
      "cell_type": "code",
      "execution_count": 9,
      "metadata": {
        "id": "JXk3uAP11gdY"
      },
      "outputs": [],
      "source": [
        "def generate_split(num_nodes, path):\n",
        "\n",
        "    # Split the dataset into train, val, and test sets\n",
        "    indices = np.arange(num_nodes)\n",
        "\n",
        "    # Make a small training set 60%, a validation set 20%, and a test set 20%\n",
        "    train_indices, temp_data = train_test_split(indices, test_size=0.4, random_state=42)\n",
        "    val_indices, test_indices = train_test_split(temp_data, test_size=0.5, random_state=42)\n",
        "    print(\"# train samples: \", len(train_indices))\n",
        "    print(\"# val samples: \", len(val_indices))\n",
        "    print(\"# test samples: \", len(test_indices))\n",
        "\n",
        "    # Create a folder for the split\n",
        "    os.makedirs(path, exist_ok=True)\n",
        "\n",
        "    # Save the indices to separate files\n",
        "    with open(f'{path}/train_indices.txt', 'w') as file:\n",
        "        file.write('\\n'.join(map(str, train_indices)))\n",
        "\n",
        "    with open(f'{path}/val_indices.txt', 'w') as file:\n",
        "        file.write('\\n'.join(map(str, val_indices)))\n",
        "\n",
        "    with open(f'{path}/test_indices.txt', 'w') as file:\n",
        "        file.write('\\n'.join(map(str, test_indices)))"
      ]
    },
    {
      "cell_type": "markdown",
      "metadata": {
        "id": "FzRCMKB8_m-g"
      },
      "source": [
        "Extracting nodes and edges from graph in dataset."
      ]
    },
    {
      "cell_type": "code",
      "execution_count": 10,
      "metadata": {
        "id": "sFr60WY1_NWc"
      },
      "outputs": [],
      "source": [
        "def textualize_graph(graph):\n",
        "    triplets = re.findall(r'\\((.*?)\\)', graph) # find all substrings in a string graph that are enclosed within parentheses ().\n",
        "    nodes = {}\n",
        "    edges = []\n",
        "    for tri in triplets:\n",
        "        src, edeg_attr, dst = tri.split(';')\n",
        "        src = src.lower().strip()\n",
        "        dst = dst.lower().strip()\n",
        "        if src not in nodes:\n",
        "            nodes[src] = len(nodes)\n",
        "        if dst not in nodes:\n",
        "            nodes[dst] = len(nodes)\n",
        "        edges.append({'src': nodes[src], 'edge_attr': edeg_attr.lower().strip(), 'dst': nodes[dst], })\n",
        "\n",
        "    nodes = pd.DataFrame(nodes.items(), columns=['node_attr', 'node_id'])\n",
        "    edges = pd.DataFrame(edges)\n",
        "    return nodes, edges"
      ]
    },
    {
      "cell_type": "markdown",
      "metadata": {
        "id": "aMhU_bTnBLcT"
      },
      "source": [
        "Example of textualize_graph:"
      ]
    },
    {
      "cell_type": "code",
      "execution_count": 11,
      "metadata": {
        "id": "xxsTm6K6ABoc"
      },
      "outputs": [],
      "source": [
        "textual_graph=textualize_graph( '(cannabis; synonym of; marijuana)(legal; causes; more available)(marijuana; capable of; good thing)(good thing; desires; legal)')"
      ]
    },
    {
      "cell_type": "code",
      "execution_count": 12,
      "metadata": {
        "colab": {
          "base_uri": "https://localhost:8080/"
        },
        "id": "85in_9baA8fS",
        "outputId": "b85231b5-b4ae-47e6-f5fe-130a5525ab54"
      },
      "outputs": [
        {
          "name": "stdout",
          "output_type": "stream",
          "text": [
            "The type of tesxtual_graph is  <class 'tuple'>\n"
          ]
        }
      ],
      "source": [
        "print(\"The type of tesxtual_graph is \", type(textual_graph))"
      ]
    },
    {
      "cell_type": "code",
      "execution_count": 13,
      "metadata": {
        "colab": {
          "base_uri": "https://localhost:8080/",
          "height": 206
        },
        "id": "nyb9jzUIAmZ5",
        "outputId": "ffb27200-6275-46b5-b18b-f3a80612b81c"
      },
      "outputs": [
        {
          "data": {
            "text/html": [
              "<div>\n",
              "<style scoped>\n",
              "    .dataframe tbody tr th:only-of-type {\n",
              "        vertical-align: middle;\n",
              "    }\n",
              "\n",
              "    .dataframe tbody tr th {\n",
              "        vertical-align: top;\n",
              "    }\n",
              "\n",
              "    .dataframe thead th {\n",
              "        text-align: right;\n",
              "    }\n",
              "</style>\n",
              "<table border=\"1\" class=\"dataframe\">\n",
              "  <thead>\n",
              "    <tr style=\"text-align: right;\">\n",
              "      <th></th>\n",
              "      <th>node_attr</th>\n",
              "      <th>node_id</th>\n",
              "    </tr>\n",
              "  </thead>\n",
              "  <tbody>\n",
              "    <tr>\n",
              "      <th>0</th>\n",
              "      <td>cannabis</td>\n",
              "      <td>0</td>\n",
              "    </tr>\n",
              "    <tr>\n",
              "      <th>1</th>\n",
              "      <td>marijuana</td>\n",
              "      <td>1</td>\n",
              "    </tr>\n",
              "    <tr>\n",
              "      <th>2</th>\n",
              "      <td>legal</td>\n",
              "      <td>2</td>\n",
              "    </tr>\n",
              "    <tr>\n",
              "      <th>3</th>\n",
              "      <td>more available</td>\n",
              "      <td>3</td>\n",
              "    </tr>\n",
              "    <tr>\n",
              "      <th>4</th>\n",
              "      <td>good thing</td>\n",
              "      <td>4</td>\n",
              "    </tr>\n",
              "  </tbody>\n",
              "</table>\n",
              "</div>"
            ],
            "text/plain": [
              "        node_attr  node_id\n",
              "0        cannabis        0\n",
              "1       marijuana        1\n",
              "2           legal        2\n",
              "3  more available        3\n",
              "4      good thing        4"
            ]
          },
          "execution_count": 13,
          "metadata": {},
          "output_type": "execute_result"
        }
      ],
      "source": [
        "textual_graph[0]"
      ]
    },
    {
      "cell_type": "code",
      "execution_count": 14,
      "metadata": {
        "colab": {
          "base_uri": "https://localhost:8080/",
          "height": 174
        },
        "id": "PuHGirLQAtWR",
        "outputId": "137b7596-959f-466c-cf3c-038796432b40"
      },
      "outputs": [
        {
          "data": {
            "text/html": [
              "<div>\n",
              "<style scoped>\n",
              "    .dataframe tbody tr th:only-of-type {\n",
              "        vertical-align: middle;\n",
              "    }\n",
              "\n",
              "    .dataframe tbody tr th {\n",
              "        vertical-align: top;\n",
              "    }\n",
              "\n",
              "    .dataframe thead th {\n",
              "        text-align: right;\n",
              "    }\n",
              "</style>\n",
              "<table border=\"1\" class=\"dataframe\">\n",
              "  <thead>\n",
              "    <tr style=\"text-align: right;\">\n",
              "      <th></th>\n",
              "      <th>src</th>\n",
              "      <th>edge_attr</th>\n",
              "      <th>dst</th>\n",
              "    </tr>\n",
              "  </thead>\n",
              "  <tbody>\n",
              "    <tr>\n",
              "      <th>0</th>\n",
              "      <td>0</td>\n",
              "      <td>synonym of</td>\n",
              "      <td>1</td>\n",
              "    </tr>\n",
              "    <tr>\n",
              "      <th>1</th>\n",
              "      <td>2</td>\n",
              "      <td>causes</td>\n",
              "      <td>3</td>\n",
              "    </tr>\n",
              "    <tr>\n",
              "      <th>2</th>\n",
              "      <td>1</td>\n",
              "      <td>capable of</td>\n",
              "      <td>4</td>\n",
              "    </tr>\n",
              "    <tr>\n",
              "      <th>3</th>\n",
              "      <td>4</td>\n",
              "      <td>desires</td>\n",
              "      <td>2</td>\n",
              "    </tr>\n",
              "  </tbody>\n",
              "</table>\n",
              "</div>"
            ],
            "text/plain": [
              "   src   edge_attr  dst\n",
              "0    0  synonym of    1\n",
              "1    2      causes    3\n",
              "2    1  capable of    4\n",
              "3    4     desires    2"
            ]
          },
          "execution_count": 14,
          "metadata": {},
          "output_type": "execute_result"
        }
      ],
      "source": [
        "textual_graph[1]"
      ]
    },
    {
      "cell_type": "markdown",
      "metadata": {
        "id": "Fii53DaLBsV6"
      },
      "source": [
        "# ***Step 1 :*** Save nodes and edges in the csv file"
      ]
    },
    {
      "cell_type": "code",
      "execution_count": 15,
      "metadata": {
        "id": "W_2Dgm7vA0H3"
      },
      "outputs": [],
      "source": [
        "def step_one():\n",
        "    # generate textual graphs\n",
        "    os.makedirs(f'{path}/nodes', exist_ok=True)\n",
        "    os.makedirs(f'{path}/edges', exist_ok=True)\n",
        "\n",
        "    for i, row in tqdm(dataset.iterrows(), total=len(dataset)):\n",
        "        nodes, edges = textualize_graph(row['graph'])\n",
        "        nodes.to_csv(f'{path}/nodes/{i}.csv', index=False, columns=['node_id', 'node_attr'])\n",
        "        edges.to_csv(f'{path}/edges/{i}.csv', index=False, columns=['src', 'edge_attr', 'dst'])"
      ]
    },
    {
      "cell_type": "code",
      "execution_count": 32,
      "metadata": {
        "colab": {
          "base_uri": "https://localhost:8080/",
          "height": 174
        },
        "id": "t7Y9ELjrCcZ2",
        "outputId": "279b9653-4ff7-47e7-96dc-1a4a5e7616b2"
      },
      "outputs": [
        {
          "data": {
            "text/html": [
              "<div>\n",
              "<style scoped>\n",
              "    .dataframe tbody tr th:only-of-type {\n",
              "        vertical-align: middle;\n",
              "    }\n",
              "\n",
              "    .dataframe tbody tr th {\n",
              "        vertical-align: top;\n",
              "    }\n",
              "\n",
              "    .dataframe thead th {\n",
              "        text-align: right;\n",
              "    }\n",
              "</style>\n",
              "<table border=\"1\" class=\"dataframe\">\n",
              "  <thead>\n",
              "    <tr style=\"text-align: right;\">\n",
              "      <th></th>\n",
              "      <th>node_id</th>\n",
              "      <th>node_attr</th>\n",
              "    </tr>\n",
              "  </thead>\n",
              "  <tbody>\n",
              "    <tr>\n",
              "      <th>0</th>\n",
              "      <td>0</td>\n",
              "      <td>three strikes law</td>\n",
              "    </tr>\n",
              "    <tr>\n",
              "      <th>1</th>\n",
              "      <td>1</td>\n",
              "      <td>keeps people safe</td>\n",
              "    </tr>\n",
              "    <tr>\n",
              "      <th>2</th>\n",
              "      <td>2</td>\n",
              "      <td>just</td>\n",
              "    </tr>\n",
              "    <tr>\n",
              "      <th>3</th>\n",
              "      <td>3</td>\n",
              "      <td>fair</td>\n",
              "    </tr>\n",
              "  </tbody>\n",
              "</table>\n",
              "</div>"
            ],
            "text/plain": [
              "   node_id          node_attr\n",
              "0        0  three strikes law\n",
              "1        1  keeps people safe\n",
              "2        2               just\n",
              "3        3               fair"
            ]
          },
          "execution_count": 32,
          "metadata": {},
          "output_type": "execute_result"
        }
      ],
      "source": [
        "#the nodes of the first row in dataset\n",
        "pd.read_csv(\"/home/ahmadi/sadaf/GraphNeighborLM/G-retriever/datasets/Explanation_graph/nodes/1.csv\")"
      ]
    },
    {
      "cell_type": "code",
      "execution_count": 33,
      "metadata": {
        "colab": {
          "base_uri": "https://localhost:8080/",
          "height": 143
        },
        "id": "6vIzGAXgCUKQ",
        "outputId": "c335b4be-4ce2-4cb2-870a-2512ead50bdb"
      },
      "outputs": [
        {
          "data": {
            "text/html": [
              "<div>\n",
              "<style scoped>\n",
              "    .dataframe tbody tr th:only-of-type {\n",
              "        vertical-align: middle;\n",
              "    }\n",
              "\n",
              "    .dataframe tbody tr th {\n",
              "        vertical-align: top;\n",
              "    }\n",
              "\n",
              "    .dataframe thead th {\n",
              "        text-align: right;\n",
              "    }\n",
              "</style>\n",
              "<table border=\"1\" class=\"dataframe\">\n",
              "  <thead>\n",
              "    <tr style=\"text-align: right;\">\n",
              "      <th></th>\n",
              "      <th>src</th>\n",
              "      <th>edge_attr</th>\n",
              "      <th>dst</th>\n",
              "    </tr>\n",
              "  </thead>\n",
              "  <tbody>\n",
              "    <tr>\n",
              "      <th>0</th>\n",
              "      <td>0</td>\n",
              "      <td>capable of</td>\n",
              "      <td>1</td>\n",
              "    </tr>\n",
              "    <tr>\n",
              "      <th>1</th>\n",
              "      <td>1</td>\n",
              "      <td>is a</td>\n",
              "      <td>2</td>\n",
              "    </tr>\n",
              "    <tr>\n",
              "      <th>2</th>\n",
              "      <td>2</td>\n",
              "      <td>synonym of</td>\n",
              "      <td>3</td>\n",
              "    </tr>\n",
              "  </tbody>\n",
              "</table>\n",
              "</div>"
            ],
            "text/plain": [
              "   src   edge_attr  dst\n",
              "0    0  capable of    1\n",
              "1    1        is a    2\n",
              "2    2  synonym of    3"
            ]
          },
          "execution_count": 33,
          "metadata": {},
          "output_type": "execute_result"
        }
      ],
      "source": [
        "#the edges of the first row in dataset\n",
        "pd.read_csv(\"/home/ahmadi/sadaf/GraphNeighborLM/G-retriever/datasets/Explanation_graph/edges/1.csv\")"
      ]
    },
    {
      "cell_type": "markdown",
      "metadata": {
        "id": "P5rKLSj7Dsfy"
      },
      "source": [
        "# ***Step 2 :*** Encode the graph"
      ]
    },
    {
      "cell_type": "markdown",
      "metadata": {
        "id": "NwuHWPvsD-Hs"
      },
      "source": [
        "Using sbert as encode"
      ]
    },
    {
      "cell_type": "code",
      "execution_count": 17,
      "metadata": {
        "id": "Fkil6O6fCd1R"
      },
      "outputs": [],
      "source": [
        "pretrained_repo = 'sentence-transformers/all-roberta-large-v1' # It maps sentences & paragraphs to a 1024 dimensional dense vector space\n",
        "batch_size = 8  # Adjust the batch size as needed\n",
        "model_name = 'sbert'"
      ]
    },
    {
      "cell_type": "markdown",
      "metadata": {
        "id": "Z_W00WFef1ri"
      },
      "source": [
        "Prepration for SBERT Embedding"
      ]
    },
    {
      "cell_type": "code",
      "execution_count": 18,
      "metadata": {
        "id": "FWY54M_KEGO2"
      },
      "outputs": [],
      "source": [
        "class Dataset(torch.utils.data.Dataset):\n",
        "    def __init__(self, input_ids=None, attention_mask=None):\n",
        "        super().__init__()\n",
        "        self.data = {\n",
        "            \"input_ids\": input_ids,\n",
        "            \"att_mask\": attention_mask,\n",
        "        }\n",
        "\n",
        "    def __len__(self):\n",
        "        return self.data[\"input_ids\"].size(0)\n",
        "\n",
        "    def __getitem__(self, index):\n",
        "        if isinstance(index, torch.Tensor):\n",
        "            index = index.item()\n",
        "        batch_data = dict()\n",
        "        for key in self.data.keys():\n",
        "            if self.data[key] is not None:\n",
        "                batch_data[key] = self.data[key][index]\n",
        "        return batch_data\n"
      ]
    },
    {
      "cell_type": "code",
      "execution_count": 19,
      "metadata": {
        "id": "rhyRX6Q0GrHw"
      },
      "outputs": [],
      "source": [
        "class Sentence_Transformer(nn.Module):\n",
        "\n",
        "    def __init__(self, pretrained_repo):\n",
        "        super(Sentence_Transformer, self).__init__()\n",
        "        print(f\"inherit model weights from {pretrained_repo}\")\n",
        "        self.bert_model = AutoModel.from_pretrained(pretrained_repo)\n",
        "\n",
        "    def mean_pooling(self, model_output, attention_mask):\n",
        "        token_embeddings = model_output[0]  # First element of model_output contains all token embeddings\n",
        "        data_type = token_embeddings.dtype\n",
        "        input_mask_expanded = attention_mask.unsqueeze(-1).expand(token_embeddings.size()).to(data_type)\n",
        "        return torch.sum(token_embeddings * input_mask_expanded, 1) / torch.clamp(input_mask_expanded.sum(1), min=1e-9)\n",
        "\n",
        "    def forward(self, input_ids, att_mask):\n",
        "        bert_out = self.bert_model(input_ids=input_ids, attention_mask=att_mask)\n",
        "        sentence_embeddings = self.mean_pooling(bert_out, att_mask)\n",
        "\n",
        "        sentence_embeddings = F.normalize(sentence_embeddings, p=2, dim=1)\n",
        "        return sentence_embeddings\n"
      ]
    },
    {
      "cell_type": "code",
      "execution_count": null,
      "metadata": {
        "id": "xuDHnnhLG6gq"
      },
      "outputs": [],
      "source": [
        "# #original code on hugging face for SBERT is:\n",
        "\n",
        "# from transformers import AutoTokenizer, AutoModel\n",
        "# import torch\n",
        "# import torch.nn.functional as F\n",
        "\n",
        "# #Mean Pooling - Take attention mask into account for correct averaging\n",
        "# def mean_pooling(model_output, attention_mask):\n",
        "#     token_embeddings = model_output[0] #First element of model_output contains all token embeddings\n",
        "#     input_mask_expanded = attention_mask.unsqueeze(-1).expand(token_embeddings.size()).float() #Expands the attention_mask to match the size of token_embeddings\n",
        "#     return torch.sum(token_embeddings * input_mask_expanded, 1) / torch.clamp(input_mask_expanded.sum(1), min=1e-9)\n",
        "\n",
        "# ##EXAMPLE\n",
        "# token_embeddings = torch.tensor([\n",
        "#     [[0.1, 0.2], [0.3, 0.4], [0.5, 0.6], [0.7, 0.8]],  # sentence 1\n",
        "#     [[0.9, 1.0], [1.1, 1.2], [1.3, 1.4], [0.0, 0.0]]   # sentence 2\n",
        "# ])  # shape: (2, 4, 2)\n",
        "\n",
        "# attention_mask = torch.tensor([\n",
        "#     [1, 1, 1, 0],\n",
        "#     [1, 1, 1, 0]\n",
        "# ])\n",
        "\n",
        "# input_mask_expanded = torch.tensor([\n",
        "#     [[1, 1], [1, 1], [1, 1], [0, 0]],\n",
        "#     [[1, 1], [1, 1], [1, 1], [0, 0]]\n",
        "# ])\n",
        "# weighted_embeddings = torch.tensor([\n",
        "#     [[0.1, 0.2], [0.3, 0.4], [0.5, 0.6], [0.0, 0.0]],\n",
        "#     [[0.9, 1.0], [1.1, 1.2], [1.3, 1.4], [0.0, 0.0]]\n",
        "# ])\n",
        "\n",
        "# summed_embeddings = torch.tensor([\n",
        "#     [0.9, 1.2],\n",
        "#     [3.3, 3.6]\n",
        "# ])\n",
        "\n",
        "# valid_token_counts = torch.tensor([\n",
        "#     [3.0, 3.0],\n",
        "#     [3.0, 3.0]\n",
        "# ])\n",
        "\n",
        "# mean_embeddings = summed_embeddings / valid_token_counts\n",
        "# mean_embeddings = torch.tensor([\n",
        "#     [0.3, 0.4],\n",
        "#     [1.1, 1.2]\n",
        "# ])\n",
        "\n",
        "\n",
        "\n",
        "\n",
        "\n",
        "\n",
        "\n",
        "\n",
        "# # Sentences we want sentence embeddings for\n",
        "# sentences = ['This is an example sentence', 'Each sentence is converted']\n",
        "\n",
        "# # Load model from HuggingFace Hub\n",
        "# tokenizer = AutoTokenizer.from_pretrained('sentence-transformers/all-roberta-large-v1')\n",
        "# model = AutoModel.from_pretrained('sentence-transformers/all-roberta-large-v1')\n",
        "\n",
        "# # Tokenize sentences\n",
        "#   #padding :Ensures all tokenized sequences have the same length by padding shorter sequences with special tokens (e.g., [PAD]).\n",
        "#   #Truncates sequences that are longer than the model's maximum input length\n",
        "#   # return_tensors :Converts the output into PyTorch tensors\n",
        "# encoded_input = tokenizer(sentences, padding=True , truncation=True, return_tensors='pt')\n",
        "# # {\n",
        "# #     'input_ids': tensor([[101, 3452, 102, ...]]),  # Token IDs for the sentences\n",
        "# #     'attention_mask': tensor([[1, 1, 1, ...]])    # Mask to distinguish real tokens from padding\n",
        "# # }\n",
        "\n",
        "\n",
        "# # Compute token embeddings\n",
        "# with torch.no_grad():\n",
        "#     model_output = model(**encoded_input) #convert to argument\n",
        "#     # output: (batch_size, sequence_length, hidden_size), others\n",
        "#     # batch_size : number of sentences\n",
        "#     # sequence_length : number of token in each sentence\n",
        "#     # hidden_size : number of feature for each token\n",
        "\n",
        "\n",
        "# # Perform pooling\n",
        "# sentence_embeddings = mean_pooling(model_output, encoded_input['attention_mask'])\n",
        "\n",
        "# # Normalize embeddings\n",
        "# sentence_embeddings = F.normalize(sentence_embeddings, p=2, dim=1) #L2 norm : p=2, dim=1 means normalization is applied to each row (sentence embedding) independently.\n",
        "\n",
        "# print(\"Sentence embeddings:\")\n",
        "# print(sentence_embeddings)\n"
      ]
    },
    {
      "cell_type": "code",
      "execution_count": 20,
      "metadata": {
        "id": "eDhkcu8EGniX"
      },
      "outputs": [],
      "source": [
        "def load_sbert():\n",
        "\n",
        "    model = Sentence_Transformer(pretrained_repo)\n",
        "    tokenizer = AutoTokenizer.from_pretrained(pretrained_repo)\n",
        "\n",
        "    device = torch.device(\"cuda\" if torch.cuda.is_available() else \"cpu\")\n",
        "    model.to(device)\n",
        "\n",
        "    model.eval()\n",
        "    return model, tokenizer, device"
      ]
    },
    {
      "cell_type": "code",
      "execution_count": 21,
      "metadata": {
        "id": "XhuJmJ_TgP8s"
      },
      "outputs": [],
      "source": [
        "def sber_text2embedding(model, tokenizer, device, text):\n",
        "    try:\n",
        "        encoding = tokenizer(text, padding=True, truncation=True, return_tensors='pt')\n",
        "        dataset = Dataset(input_ids=encoding.input_ids, attention_mask=encoding.attention_mask)\n",
        "\n",
        "        # DataLoader\n",
        "        dataloader = DataLoader(dataset, batch_size=batch_size, shuffle=False)\n",
        "\n",
        "        # Placeholder for storing the embeddings\n",
        "        all_embeddings = []\n",
        "\n",
        "        # Iterate through batches\n",
        "        with torch.no_grad():\n",
        "\n",
        "            for batch in dataloader:\n",
        "                # Move batch to the appropriate device\n",
        "                batch = {key: value.to(device) for key, value in batch.items()}\n",
        "\n",
        "                # Forward pass\n",
        "                embeddings = model(input_ids=batch[\"input_ids\"], att_mask=batch[\"att_mask\"])\n",
        "\n",
        "                # Append the embeddings to the list\n",
        "                all_embeddings.append(embeddings)\n",
        "\n",
        "        # Concatenate the embeddings from all batches\n",
        "        all_embeddings = torch.cat(all_embeddings, dim=0).cpu()\n",
        "\n",
        "    except:\n",
        "        return torch.zeros((0, 1024))\n",
        "\n",
        "    return all_embeddings\n",
        "\n"
      ]
    },
    {
      "cell_type": "code",
      "execution_count": 22,
      "metadata": {
        "id": "4CXTQyuxGagm"
      },
      "outputs": [],
      "source": [
        "load_model = {\n",
        "    'sbert': load_sbert\n",
        "}\n",
        "\n",
        "\n",
        "\n",
        "load_text2embedding = {\n",
        "    'sbert': sber_text2embedding\n",
        "}"
      ]
    },
    {
      "cell_type": "code",
      "execution_count": 23,
      "metadata": {
        "colab": {
          "base_uri": "https://localhost:8080/",
          "height": 487,
          "referenced_widgets": [
            "cb3d5a5b04574ad8a6bfe5b496098f23",
            "4e3021569fb0402abc6349aa36a489e9",
            "fc98cec68b29445ebb623462b845374c",
            "0c600c21056e4acaad654a38fd892ac9",
            "4a9d865b326e42fba75d0e9c3816d343",
            "a92b87d7a9de4cf8bee16cc6cfa1fc4d",
            "bd4ee56490be48048de28d723394b988",
            "db2fc14d543b408ab8bf3a2e428c0d18",
            "870d102e27474d1b9f9c825f575de13c",
            "017a329523ce4062bf75aa7676af9af3",
            "545ed0a6d0994e03b6bcba9e29ca2703",
            "b099b62cf4e946fab75b108fb29dbca3",
            "5c9c921abefe45cc89ab6372f25cf1cf",
            "309a29ac4bb74311b44d0b1c99f8948c",
            "3e775f21e89c45328836eb3662af14f8",
            "bc22bd82f6a0490899f442361a7a677e",
            "8563589e8f684dbba1a6145a6bbe5b12",
            "d0ffc163187341d492cee4eab979f07b",
            "a44ac2c750fc422ebb992f7a8318db35",
            "9abdf228307c4cbfa9932009c26338b1",
            "5f145ecfa4d343cc815cd3676bc0b4e5",
            "33c747d3bb46418f9cbf3c4a4aa66535",
            "dfdc65aa13e64819bf0fb9c6829927c4",
            "4d32d02b213b4727a8b6761910ac5bd3",
            "2921138d5efa42e2b5650100b2f4923d",
            "d3872b590da74855a985d3526522cca3",
            "f9852de9eb384b43b86d1f273780bc9d",
            "0a5ff9fcc79f4a2fa2f409a92212730c",
            "1ba31076a97d43a6b5370c3c98643db7",
            "c320b8532f074c94bd62cbff0a9df257",
            "026d2f0dda61429182119952203dfb3d",
            "cd65f881f1fc4de5b8971fcc01ae9e52",
            "c99536c25281479680c080a7b5935920",
            "9c0f28a4e17b4de5876ebd09acf47186",
            "34c6d03b26e44b0883e66b176e3b724a",
            "36a6bccfe84649e9a7e8bc955a641a1e",
            "ae947b51d6c5423fac15e8de01cedda4",
            "e2f18d995dbf4ff5b5e37e5083d1fb49",
            "db32ecbec10a4f139f5d674e0f626f7b",
            "c8458719352a4886a8c118582e17e974",
            "203f5392ce224d148cabb94dea96f7aa",
            "3baf362527ae4b66b7dd21b5b4dc5661",
            "f1847f0165534fb38b792e139d1367bb",
            "df1b8c5c414f4ffeb95997f544e5ddb8",
            "80d9fabf618d4c06a012118aa87fa255",
            "b55e6acaaf4d4a6695d4c4a9dbd2f995",
            "27cb80fe9d4246b88990be726b1bdfaf",
            "bc1a52b61cfd49f9b21fcd58230b985f",
            "9ed8c0fde27348b6aa2798c8fc084ef5",
            "a7b2bb3e94ef4ba49dda16ba6fbac501",
            "994a1dacaceb4bb0bdccf69b2e8b3b71",
            "05595a5bfa354721b032fa23975fd17c",
            "366509e2330a4ff186986cbebad5713f",
            "82b68bc57032415b8c7d32805a951cda",
            "a6937137036f4b89b67f012ab83b8c08",
            "88f90159141741af832be3f4b61a5e44",
            "6b287a72bbf7480fabfb627aaa4e3934",
            "564545cc43f44195ac715243eabb7c83",
            "8c793aebf3a14d6f941540a098ebc9b2",
            "bd54c5787113468f90bdd6eabea8ff85",
            "ceeed9648fa340e1bd235b5e1325eec3",
            "e7fb1180e87146bdad24ac4c6902fc78",
            "8899d3d338864d6f97003f25a1a3ff7c",
            "7dd391b754584ce8b7e3a424acc74794",
            "c60240cb11734d52aaedb6f331e89d96",
            "54f8651876b84668b90e6651184bd94c",
            "5b1a69884b9b49358447a1537c7b4625",
            "fc39087113944b619824e31e9c61f5a8",
            "6eaf0c9c0e234557a5fe7ab4d50808b8",
            "a3f62c377f654012adf5eb6d3d487ad3",
            "f14d7493dd464ea9b51fe2e832e684d7",
            "d3a9dbc33b0a4af6841294644d21076f",
            "bf9f08571c314f42a212c0e3662a1a0b",
            "6b705a9ba7674136825f331405f3f27a",
            "4f4c228475544d93b1b34db2873f3e39",
            "317f44d99d1f47febbf8507eb0a6acc7",
            "948e0f6a79f34b73ba389033516c27a4"
          ]
        },
        "id": "uw3orPRoEHJ7",
        "outputId": "1e5e2b2e-1f17-4a5f-bced-aaa70771671a"
      },
      "outputs": [
        {
          "name": "stderr",
          "output_type": "stream",
          "text": [
            "  6%|▌         | 17/277 [00:00<00:01, 165.33it/s]"
          ]
        },
        {
          "name": "stderr",
          "output_type": "stream",
          "text": [
            "100%|██████████| 277/277 [00:00<00:00, 280.12it/s]\n",
            "/home/ahmadi/sadaf/GraphNeighborLM/sadafenv/lib/python3.10/site-packages/huggingface_hub/file_download.py:795: FutureWarning: `resume_download` is deprecated and will be removed in version 1.0.0. Downloads always resume when possible. If you want to force a new download, use `force_download=True`.\n",
            "  warnings.warn(\n"
          ]
        },
        {
          "name": "stdout",
          "output_type": "stream",
          "text": [
            "inherit model weights from sentence-transformers/all-roberta-large-v1\n"
          ]
        },
        {
          "data": {
            "application/vnd.jupyter.widget-view+json": {
              "model_id": "5dfbb502383d412e9bd2f36c7b1d7d70",
              "version_major": 2,
              "version_minor": 0
            },
            "text/plain": [
              "config.json:   0%|          | 0.00/650 [00:00<?, ?B/s]"
            ]
          },
          "metadata": {},
          "output_type": "display_data"
        },
        {
          "data": {
            "application/vnd.jupyter.widget-view+json": {
              "model_id": "3f63cba5338b4e0289dd8facb96c7de1",
              "version_major": 2,
              "version_minor": 0
            },
            "text/plain": [
              "model.safetensors:   0%|          | 0.00/1.42G [00:00<?, ?B/s]"
            ]
          },
          "metadata": {},
          "output_type": "display_data"
        },
        {
          "data": {
            "application/vnd.jupyter.widget-view+json": {
              "model_id": "7397430e50484ae6abcb80d4d8737d9a",
              "version_major": 2,
              "version_minor": 0
            },
            "text/plain": [
              "tokenizer_config.json:   0%|          | 0.00/328 [00:00<?, ?B/s]"
            ]
          },
          "metadata": {},
          "output_type": "display_data"
        },
        {
          "data": {
            "application/vnd.jupyter.widget-view+json": {
              "model_id": "fd78111e0fd546b0a1f3359682a8adbe",
              "version_major": 2,
              "version_minor": 0
            },
            "text/plain": [
              "vocab.json:   0%|          | 0.00/798k [00:00<?, ?B/s]"
            ]
          },
          "metadata": {},
          "output_type": "display_data"
        },
        {
          "data": {
            "application/vnd.jupyter.widget-view+json": {
              "model_id": "955aa5958c3741a9a354a6f7c0cb60fd",
              "version_major": 2,
              "version_minor": 0
            },
            "text/plain": [
              "merges.txt:   0%|          | 0.00/456k [00:00<?, ?B/s]"
            ]
          },
          "metadata": {},
          "output_type": "display_data"
        },
        {
          "data": {
            "application/vnd.jupyter.widget-view+json": {
              "model_id": "1da7e5c1a2f247bc91f48d1f58e6e3c5",
              "version_major": 2,
              "version_minor": 0
            },
            "text/plain": [
              "tokenizer.json:   0%|          | 0.00/1.36M [00:00<?, ?B/s]"
            ]
          },
          "metadata": {},
          "output_type": "display_data"
        },
        {
          "data": {
            "application/vnd.jupyter.widget-view+json": {
              "model_id": "9dafd978950b47f48fade4b958dd69ef",
              "version_major": 2,
              "version_minor": 0
            },
            "text/plain": [
              "special_tokens_map.json:   0%|          | 0.00/239 [00:00<?, ?B/s]"
            ]
          },
          "metadata": {},
          "output_type": "display_data"
        },
        {
          "name": "stdout",
          "output_type": "stream",
          "text": [
            "Encoding graphs...\n"
          ]
        },
        {
          "name": "stderr",
          "output_type": "stream",
          "text": [
            "100%|██████████| 277/277 [00:34<00:00,  8.13it/s]"
          ]
        },
        {
          "name": "stdout",
          "output_type": "stream",
          "text": [
            "# train samples:  166\n",
            "# val samples:  55\n",
            "# test samples:  56\n"
          ]
        },
        {
          "name": "stderr",
          "output_type": "stream",
          "text": [
            "\n"
          ]
        }
      ],
      "source": [
        "def step_two():\n",
        "\n",
        "    def _encode_graph():\n",
        "        print('Encoding graphs...')\n",
        "        os.makedirs(f'{path}/graphs', exist_ok=True)\n",
        "        # Set paths to nodes and edges directories\n",
        "        nodes_path = f'{path}/nodes'\n",
        "        edges_path = f'{path}/edges'\n",
        "\n",
        "        # Get all CSV files in the directories\n",
        "        node_files = glob.glob(f'{nodes_path}/*.csv')\n",
        "        edge_files = glob.glob(f'{edges_path}/*.csv')\n",
        "\n",
        "        # Sorting ensures that the order of node_files and edge_files corresponds correctly\n",
        "        node_files.sort()\n",
        "        edge_files.sort()\n",
        "\n",
        "        for i in tqdm(range(len(dataset))):\n",
        "            nodes = pd.read_csv(node_files[i])\n",
        "            edges = pd.read_csv(edge_files[i])\n",
        "\n",
        "            x = text2embedding(model, tokenizer, device, nodes.node_attr.tolist())\n",
        "            e = text2embedding(model, tokenizer, device, edges.edge_attr.tolist())\n",
        "            edge_index = torch.LongTensor([edges.src, edges.dst])\n",
        "            data = Data(x=x, edge_index=edge_index, edge_attr=e, num_nodes=len(nodes))\n",
        "            torch.save(data, f'{path}/graphs/{i}.pt')\n",
        "\n",
        "    model, tokenizer, device = load_model[model_name]()\n",
        "    text2embedding = load_text2embedding[model_name]\n",
        "\n",
        "    _encode_graph()\n",
        "\n",
        "\n",
        "if __name__ == '__main__':\n",
        "    step_one()\n",
        "    step_two()\n",
        "    generate_split(len(dataset), f'{path}/split')"
      ]
    },
    {
      "cell_type": "markdown",
      "metadata": {
        "id": "yQ-cp5zoJu6C"
      },
      "source": [
        "\n",
        "content of graph.pt"
      ]
    },
    {
      "cell_type": "code",
      "execution_count": 24,
      "metadata": {
        "colab": {
          "base_uri": "https://localhost:8080/"
        },
        "id": "-qGLLUCCG_00",
        "outputId": "f2df5169-87d3-4103-f4b9-e91a89d657f5"
      },
      "outputs": [
        {
          "name": "stdout",
          "output_type": "stream",
          "text": [
            "Type of the loaded data: <class 'torch_geometric.data.data.Data'>\n",
            "Data(x=[8, 1024], edge_index=[2, 7], edge_attr=[7, 1024], num_nodes=8)\n",
            "Node Features (x): tensor([[ 0.0072, -0.0548,  0.0139,  ...,  0.0123, -0.0234, -0.0507],\n",
            "        [-0.0194, -0.0667,  0.0295,  ...,  0.0396,  0.0123, -0.0259],\n",
            "        [-0.0468,  0.0213,  0.0375,  ...,  0.0281, -0.0228, -0.0524],\n",
            "        ...,\n",
            "        [-0.0076,  0.0213, -0.0130,  ..., -0.0112, -0.0575, -0.0248],\n",
            "        [-0.0073,  0.0176, -0.0072,  ...,  0.0116, -0.0444, -0.0390],\n",
            "        [-0.0101,  0.0828,  0.0038,  ..., -0.0087,  0.0113, -0.0370]])\n",
            "Edge Index (edge_index): tensor([[0, 1, 2, 3, 4, 5, 7],\n",
            "        [1, 2, 3, 4, 5, 6, 0]])\n",
            "Edge Attributes (edge_attr): tensor([[ 0.0039, -0.0208,  0.0201,  ..., -0.0440, -0.0128, -0.0602],\n",
            "        [ 0.0077,  0.0517,  0.0018,  ...,  0.0248,  0.0030,  0.0017],\n",
            "        [ 0.0077,  0.0517,  0.0018,  ...,  0.0248,  0.0030,  0.0017],\n",
            "        ...,\n",
            "        [-0.0206,  0.0311,  0.0329,  ...,  0.0276, -0.0026,  0.0001],\n",
            "        [-0.0206,  0.0311,  0.0329,  ...,  0.0276, -0.0026,  0.0001],\n",
            "        [-0.0206,  0.0311,  0.0329,  ...,  0.0276, -0.0026,  0.0001]])\n",
            "Number of Nodes (num_nodes): 8\n",
            "Additional attributes: <bound method BaseData.keys of Data(x=[8, 1024], edge_index=[2, 7], edge_attr=[7, 1024], num_nodes=8)>\n"
          ]
        },
        {
          "name": "stderr",
          "output_type": "stream",
          "text": [
            "/tmp/ipykernel_230150/319378869.py:5: FutureWarning: You are using `torch.load` with `weights_only=False` (the current default value), which uses the default pickle module implicitly. It is possible to construct malicious pickle data which will execute arbitrary code during unpickling (See https://github.com/pytorch/pytorch/blob/main/SECURITY.md#untrusted-models for more details). In a future release, the default value for `weights_only` will be flipped to `True`. This limits the functions that could be executed during unpickling. Arbitrary objects will no longer be allowed to be loaded via this mode unless they are explicitly allowlisted by the user via `torch.serialization.add_safe_globals`. We recommend you start setting `weights_only=True` for any use case where you don't have full control of the loaded file. Please open an issue on GitHub for any issues related to this experimental feature.\n",
            "  data = torch.load(file_path)\n"
          ]
        }
      ],
      "source": [
        "# Define the path to the .pt file\n",
        "file_path = f'{path}/graphs/{10}.pt'\n",
        "\n",
        "# Load the data\n",
        "data = torch.load(file_path)\n",
        "\n",
        "# Check the type of the loaded data\n",
        "print(f'Type of the loaded data: {type(data)}')\n",
        "\n",
        "# Print the content of the loaded data\n",
        "print(data)\n",
        "\n",
        "# If data is an instance of torch_geometric.data.Dat\n",
        "# a, you can access its attributes\n",
        "if isinstance(data, Data):\n",
        "    print(\"Node Features (x):\", data.x)\n",
        "    print(\"Edge Index (edge_index):\", data.edge_index)\n",
        "    print(\"Edge Attributes (edge_attr):\", data.edge_attr)\n",
        "    print(\"Number of Nodes (num_nodes):\", data.num_nodes)\n",
        "    print(\"Additional attributes:\", data.keys)\n",
        "else:\n",
        "    print(\"The loaded data is not a PyTorch Geometric Data object.\")\n"
      ]
    },
    {
      "cell_type": "code",
      "execution_count": 25,
      "metadata": {
        "colab": {
          "base_uri": "https://localhost:8080/"
        },
        "id": "4e_tNAwmJzps",
        "outputId": "1a634da9-d05f-4009-f7d3-2c5b72d98cf8"
      },
      "outputs": [
        {
          "data": {
            "text/plain": [
              "Data(x=[8, 1024], edge_index=[2, 7], edge_attr=[7, 1024], num_nodes=8)"
            ]
          },
          "execution_count": 25,
          "metadata": {},
          "output_type": "execute_result"
        }
      ],
      "source": [
        "data"
      ]
    },
    {
      "cell_type": "code",
      "execution_count": 28,
      "metadata": {
        "id": "63meFknTJ4cP"
      },
      "outputs": [],
      "source": [
        "import json\n",
        "import pandas as pd\n",
        "import torch\n",
        "from torch.utils.data import Dataset\n",
        "\n",
        "\n",
        "PATH = '/home/ahmadi/sadaf/GraphNeighborLM/G-retriever/datasets/Explanation_graph'\n",
        "\n",
        "\n",
        "class ExplaGraphsDataset(Dataset):\n",
        "    def __init__(self):\n",
        "        super().__init__()\n",
        "\n",
        "        self.text = pd.read_csv(f'{PATH}/sample_train_dev.tsv', sep=',')\n",
        "        self.prompt = 'Question: Do argument 1 and argument 2 support or counter each other? Answer in one word in the form of \\'support\\' or \\'counter\\'.\\n\\nAnswer:'\n",
        "        self.graph = None\n",
        "        self.graph_type = 'Explanation Graph'\n",
        "\n",
        "    def __len__(self):\n",
        "        \"\"\"Return the len of the dataset.\"\"\"\n",
        "        return len(self.text)\n",
        "\n",
        "    def __getitem__(self, index):\n",
        "\n",
        "        text = self.text.iloc[index]\n",
        "        graph = torch.load(f'{PATH}/graphs/{index}.pt')\n",
        "        question = f'Argument 1: {text.arg1}\\nArgument 2: {text.arg2}\\n{self.prompt}'\n",
        "        nodes = pd.read_csv(f'{PATH}/nodes/{index}.csv')\n",
        "        edges = pd.read_csv(f'{PATH}/edges/{index}.csv')\n",
        "        desc = nodes.to_csv(index=False)+'\\n'+edges.to_csv(index=False)\n",
        "\n",
        "        return {\n",
        "            'id': index,\n",
        "            'label': text['label'],\n",
        "            'desc': desc,\n",
        "            'graph': graph,\n",
        "            'question': question,\n",
        "        }\n",
        "\n",
        "    def get_idx_split(self):\n",
        "\n",
        "        # Load the saved indices\n",
        "        with open(f'{PATH}/split/train_indices.txt', 'r') as file:\n",
        "            train_indices = [int(line.strip()) for line in file]\n",
        "\n",
        "        with open(f'{PATH}/split/val_indices.txt', 'r') as file:\n",
        "            val_indices = [int(line.strip()) for line in file]\n",
        "\n",
        "        with open(f'{PATH}/split/test_indices.txt', 'r') as file:\n",
        "            test_indices = [int(line.strip()) for line in file]\n",
        "\n",
        "        return {'train': train_indices, 'val': val_indices, 'test': test_indices}\n",
        "\n",
        "\n"
      ]
    },
    {
      "cell_type": "code",
      "execution_count": 29,
      "metadata": {
        "colab": {
          "base_uri": "https://localhost:8080/",
          "height": 52
        },
        "id": "jOCfiyHwRADN",
        "outputId": "f112889d-22b7-43e5-e67e-44532fa4bb9c"
      },
      "outputs": [
        {
          "data": {
            "text/plain": [
              "'node_id,node_attr\\n0,three strikes law\\n1,keeps people safe\\n2,just\\n3,fair\\n\\nsrc,edge_attr,dst\\n0,capable of,1\\n1,is a,2\\n2,synonym of,3\\n'"
            ]
          },
          "execution_count": 29,
          "metadata": {},
          "output_type": "execute_result"
        }
      ],
      "source": [
        "nodes = pd.read_csv(f'{PATH}/nodes/{1}.csv')\n",
        "edges = pd.read_csv(f'{PATH}/edges/{1}.csv')\n",
        "desc = nodes.to_csv(index=False)+'\\n'+edges.to_csv(index=False)\n",
        "desc"
      ]
    },
    {
      "cell_type": "code",
      "execution_count": 30,
      "metadata": {
        "colab": {
          "base_uri": "https://localhost:8080/"
        },
        "id": "FzSN33w1RPTx",
        "outputId": "2001da43-7bed-4c66-842d-6ae5acca2105"
      },
      "outputs": [
        {
          "name": "stderr",
          "output_type": "stream",
          "text": [
            "/tmp/ipykernel_230150/1096326771.py:26: FutureWarning: You are using `torch.load` with `weights_only=False` (the current default value), which uses the default pickle module implicitly. It is possible to construct malicious pickle data which will execute arbitrary code during unpickling (See https://github.com/pytorch/pytorch/blob/main/SECURITY.md#untrusted-models for more details). In a future release, the default value for `weights_only` will be flipped to `True`. This limits the functions that could be executed during unpickling. Arbitrary objects will no longer be allowed to be loaded via this mode unless they are explicitly allowlisted by the user via `torch.serialization.add_safe_globals`. We recommend you start setting `weights_only=True` for any use case where you don't have full control of the loaded file. Please open an issue on GitHub for any issues related to this experimental feature.\n",
            "  graph = torch.load(f'{PATH}/graphs/{index}.pt')\n"
          ]
        },
        {
          "data": {
            "text/plain": [
              "{'id': 1,\n",
              " 'label': 'counter',\n",
              " 'desc': 'node_id,node_attr\\n0,three strikes law\\n1,keeps people safe\\n2,just\\n3,fair\\n\\nsrc,edge_attr,dst\\n0,capable of,1\\n1,is a,2\\n2,synonym of,3\\n',\n",
              " 'graph': Data(x=[4, 1024], edge_index=[2, 3], edge_attr=[3, 1024], num_nodes=4),\n",
              " 'question': \"Argument 1: the three strikes law is not fair.\\nArgument 2: The three strikes law keeps people safe.\\nQuestion: Do argument 1 and argument 2 support or counter each other? Answer in one word in the form of 'support' or 'counter'.\\n\\nAnswer:\"}"
            ]
          },
          "execution_count": 30,
          "metadata": {},
          "output_type": "execute_result"
        }
      ],
      "source": [
        "dataset = ExplaGraphsDataset()\n",
        "dataset[1]"
      ]
    },
    {
      "cell_type": "code",
      "execution_count": 31,
      "metadata": {
        "colab": {
          "base_uri": "https://localhost:8080/"
        },
        "id": "X2WTiWWeRCEg",
        "outputId": "33220719-cf4f-46ae-89e6-73b09c1ef737"
      },
      "outputs": [
        {
          "name": "stdout",
          "output_type": "stream",
          "text": [
            "Question: Do argument 1 and argument 2 support or counter each other? Answer in one word in the form of 'support' or 'counter'.\n",
            "\n",
            "Answer:\n",
            "id: 1\n",
            "label: counter\n",
            "desc: node_id,node_attr\n",
            "0,three strikes law\n",
            "1,keeps people safe\n",
            "2,just\n",
            "3,fair\n",
            "\n",
            "src,edge_attr,dst\n",
            "0,capable of,1\n",
            "1,is a,2\n",
            "2,synonym of,3\n",
            "\n",
            "graph: Data(x=[4, 1024], edge_index=[2, 3], edge_attr=[3, 1024], num_nodes=4)\n",
            "question: Argument 1: the three strikes law is not fair.\n",
            "Argument 2: The three strikes law keeps people safe.\n",
            "Question: Do argument 1 and argument 2 support or counter each other? Answer in one word in the form of 'support' or 'counter'.\n",
            "\n",
            "Answer:\n",
            "# train: 166\n",
            "# val: 55\n",
            "# test: 56\n"
          ]
        },
        {
          "name": "stderr",
          "output_type": "stream",
          "text": [
            "/tmp/ipykernel_230150/1096326771.py:26: FutureWarning: You are using `torch.load` with `weights_only=False` (the current default value), which uses the default pickle module implicitly. It is possible to construct malicious pickle data which will execute arbitrary code during unpickling (See https://github.com/pytorch/pytorch/blob/main/SECURITY.md#untrusted-models for more details). In a future release, the default value for `weights_only` will be flipped to `True`. This limits the functions that could be executed during unpickling. Arbitrary objects will no longer be allowed to be loaded via this mode unless they are explicitly allowlisted by the user via `torch.serialization.add_safe_globals`. We recommend you start setting `weights_only=True` for any use case where you don't have full control of the loaded file. Please open an issue on GitHub for any issues related to this experimental feature.\n",
            "  graph = torch.load(f'{PATH}/graphs/{index}.pt')\n"
          ]
        }
      ],
      "source": [
        "if __name__ == '__main__':\n",
        "    dataset = ExplaGraphsDataset()\n",
        "\n",
        "    print(dataset.prompt)\n",
        "\n",
        "    data = dataset[1]\n",
        "    for k, v in data.items():\n",
        "        print(f'{k}: {v}')\n",
        "\n",
        "    split_ids = dataset.get_idx_split()\n",
        "    for k, v in split_ids.items():\n",
        "        print(f'# {k}: {len(v)}')\n"
      ]
    },
    {
      "cell_type": "code",
      "execution_count": null,
      "metadata": {
        "id": "6RhxbfLRRMY_"
      },
      "outputs": [],
      "source": []
    }
  ],
  "metadata": {
    "colab": {
      "provenance": []
    },
    "kernelspec": {
      "display_name": "sadafenv",
      "language": "python",
      "name": "python3"
    },
    "language_info": {
      "codemirror_mode": {
        "name": "ipython",
        "version": 3
      },
      "file_extension": ".py",
      "mimetype": "text/x-python",
      "name": "python",
      "nbconvert_exporter": "python",
      "pygments_lexer": "ipython3",
      "version": "3.10.12"
    },
    "widgets": {
      "application/vnd.jupyter.widget-state+json": {
        "017a329523ce4062bf75aa7676af9af3": {
          "model_module": "@jupyter-widgets/base",
          "model_module_version": "1.2.0",
          "model_name": "LayoutModel",
          "state": {
            "_model_module": "@jupyter-widgets/base",
            "_model_module_version": "1.2.0",
            "_model_name": "LayoutModel",
            "_view_count": null,
            "_view_module": "@jupyter-widgets/base",
            "_view_module_version": "1.2.0",
            "_view_name": "LayoutView",
            "align_content": null,
            "align_items": null,
            "align_self": null,
            "border": null,
            "bottom": null,
            "display": null,
            "flex": null,
            "flex_flow": null,
            "grid_area": null,
            "grid_auto_columns": null,
            "grid_auto_flow": null,
            "grid_auto_rows": null,
            "grid_column": null,
            "grid_gap": null,
            "grid_row": null,
            "grid_template_areas": null,
            "grid_template_columns": null,
            "grid_template_rows": null,
            "height": null,
            "justify_content": null,
            "justify_items": null,
            "left": null,
            "margin": null,
            "max_height": null,
            "max_width": null,
            "min_height": null,
            "min_width": null,
            "object_fit": null,
            "object_position": null,
            "order": null,
            "overflow": null,
            "overflow_x": null,
            "overflow_y": null,
            "padding": null,
            "right": null,
            "top": null,
            "visibility": null,
            "width": null
          }
        },
        "026d2f0dda61429182119952203dfb3d": {
          "model_module": "@jupyter-widgets/controls",
          "model_module_version": "1.5.0",
          "model_name": "ProgressStyleModel",
          "state": {
            "_model_module": "@jupyter-widgets/controls",
            "_model_module_version": "1.5.0",
            "_model_name": "ProgressStyleModel",
            "_view_count": null,
            "_view_module": "@jupyter-widgets/base",
            "_view_module_version": "1.2.0",
            "_view_name": "StyleView",
            "bar_color": null,
            "description_width": ""
          }
        },
        "05595a5bfa354721b032fa23975fd17c": {
          "model_module": "@jupyter-widgets/base",
          "model_module_version": "1.2.0",
          "model_name": "LayoutModel",
          "state": {
            "_model_module": "@jupyter-widgets/base",
            "_model_module_version": "1.2.0",
            "_model_name": "LayoutModel",
            "_view_count": null,
            "_view_module": "@jupyter-widgets/base",
            "_view_module_version": "1.2.0",
            "_view_name": "LayoutView",
            "align_content": null,
            "align_items": null,
            "align_self": null,
            "border": null,
            "bottom": null,
            "display": null,
            "flex": null,
            "flex_flow": null,
            "grid_area": null,
            "grid_auto_columns": null,
            "grid_auto_flow": null,
            "grid_auto_rows": null,
            "grid_column": null,
            "grid_gap": null,
            "grid_row": null,
            "grid_template_areas": null,
            "grid_template_columns": null,
            "grid_template_rows": null,
            "height": null,
            "justify_content": null,
            "justify_items": null,
            "left": null,
            "margin": null,
            "max_height": null,
            "max_width": null,
            "min_height": null,
            "min_width": null,
            "object_fit": null,
            "object_position": null,
            "order": null,
            "overflow": null,
            "overflow_x": null,
            "overflow_y": null,
            "padding": null,
            "right": null,
            "top": null,
            "visibility": null,
            "width": null
          }
        },
        "0a5ff9fcc79f4a2fa2f409a92212730c": {
          "model_module": "@jupyter-widgets/base",
          "model_module_version": "1.2.0",
          "model_name": "LayoutModel",
          "state": {
            "_model_module": "@jupyter-widgets/base",
            "_model_module_version": "1.2.0",
            "_model_name": "LayoutModel",
            "_view_count": null,
            "_view_module": "@jupyter-widgets/base",
            "_view_module_version": "1.2.0",
            "_view_name": "LayoutView",
            "align_content": null,
            "align_items": null,
            "align_self": null,
            "border": null,
            "bottom": null,
            "display": null,
            "flex": null,
            "flex_flow": null,
            "grid_area": null,
            "grid_auto_columns": null,
            "grid_auto_flow": null,
            "grid_auto_rows": null,
            "grid_column": null,
            "grid_gap": null,
            "grid_row": null,
            "grid_template_areas": null,
            "grid_template_columns": null,
            "grid_template_rows": null,
            "height": null,
            "justify_content": null,
            "justify_items": null,
            "left": null,
            "margin": null,
            "max_height": null,
            "max_width": null,
            "min_height": null,
            "min_width": null,
            "object_fit": null,
            "object_position": null,
            "order": null,
            "overflow": null,
            "overflow_x": null,
            "overflow_y": null,
            "padding": null,
            "right": null,
            "top": null,
            "visibility": null,
            "width": null
          }
        },
        "0c600c21056e4acaad654a38fd892ac9": {
          "model_module": "@jupyter-widgets/controls",
          "model_module_version": "1.5.0",
          "model_name": "HTMLModel",
          "state": {
            "_dom_classes": [],
            "_model_module": "@jupyter-widgets/controls",
            "_model_module_version": "1.5.0",
            "_model_name": "HTMLModel",
            "_view_count": null,
            "_view_module": "@jupyter-widgets/controls",
            "_view_module_version": "1.5.0",
            "_view_name": "HTMLView",
            "description": "",
            "description_tooltip": null,
            "layout": "IPY_MODEL_017a329523ce4062bf75aa7676af9af3",
            "placeholder": "​",
            "style": "IPY_MODEL_545ed0a6d0994e03b6bcba9e29ca2703",
            "value": " 650/650 [00:00&lt;00:00, 36.4kB/s]"
          }
        },
        "1ba31076a97d43a6b5370c3c98643db7": {
          "model_module": "@jupyter-widgets/controls",
          "model_module_version": "1.5.0",
          "model_name": "DescriptionStyleModel",
          "state": {
            "_model_module": "@jupyter-widgets/controls",
            "_model_module_version": "1.5.0",
            "_model_name": "DescriptionStyleModel",
            "_view_count": null,
            "_view_module": "@jupyter-widgets/base",
            "_view_module_version": "1.2.0",
            "_view_name": "StyleView",
            "description_width": ""
          }
        },
        "203f5392ce224d148cabb94dea96f7aa": {
          "model_module": "@jupyter-widgets/base",
          "model_module_version": "1.2.0",
          "model_name": "LayoutModel",
          "state": {
            "_model_module": "@jupyter-widgets/base",
            "_model_module_version": "1.2.0",
            "_model_name": "LayoutModel",
            "_view_count": null,
            "_view_module": "@jupyter-widgets/base",
            "_view_module_version": "1.2.0",
            "_view_name": "LayoutView",
            "align_content": null,
            "align_items": null,
            "align_self": null,
            "border": null,
            "bottom": null,
            "display": null,
            "flex": null,
            "flex_flow": null,
            "grid_area": null,
            "grid_auto_columns": null,
            "grid_auto_flow": null,
            "grid_auto_rows": null,
            "grid_column": null,
            "grid_gap": null,
            "grid_row": null,
            "grid_template_areas": null,
            "grid_template_columns": null,
            "grid_template_rows": null,
            "height": null,
            "justify_content": null,
            "justify_items": null,
            "left": null,
            "margin": null,
            "max_height": null,
            "max_width": null,
            "min_height": null,
            "min_width": null,
            "object_fit": null,
            "object_position": null,
            "order": null,
            "overflow": null,
            "overflow_x": null,
            "overflow_y": null,
            "padding": null,
            "right": null,
            "top": null,
            "visibility": null,
            "width": null
          }
        },
        "27cb80fe9d4246b88990be726b1bdfaf": {
          "model_module": "@jupyter-widgets/controls",
          "model_module_version": "1.5.0",
          "model_name": "FloatProgressModel",
          "state": {
            "_dom_classes": [],
            "_model_module": "@jupyter-widgets/controls",
            "_model_module_version": "1.5.0",
            "_model_name": "FloatProgressModel",
            "_view_count": null,
            "_view_module": "@jupyter-widgets/controls",
            "_view_module_version": "1.5.0",
            "_view_name": "ProgressView",
            "bar_style": "success",
            "description": "",
            "description_tooltip": null,
            "layout": "IPY_MODEL_05595a5bfa354721b032fa23975fd17c",
            "max": 456356,
            "min": 0,
            "orientation": "horizontal",
            "style": "IPY_MODEL_366509e2330a4ff186986cbebad5713f",
            "value": 456356
          }
        },
        "2921138d5efa42e2b5650100b2f4923d": {
          "model_module": "@jupyter-widgets/controls",
          "model_module_version": "1.5.0",
          "model_name": "FloatProgressModel",
          "state": {
            "_dom_classes": [],
            "_model_module": "@jupyter-widgets/controls",
            "_model_module_version": "1.5.0",
            "_model_name": "FloatProgressModel",
            "_view_count": null,
            "_view_module": "@jupyter-widgets/controls",
            "_view_module_version": "1.5.0",
            "_view_name": "ProgressView",
            "bar_style": "success",
            "description": "",
            "description_tooltip": null,
            "layout": "IPY_MODEL_c320b8532f074c94bd62cbff0a9df257",
            "max": 328,
            "min": 0,
            "orientation": "horizontal",
            "style": "IPY_MODEL_026d2f0dda61429182119952203dfb3d",
            "value": 328
          }
        },
        "309a29ac4bb74311b44d0b1c99f8948c": {
          "model_module": "@jupyter-widgets/controls",
          "model_module_version": "1.5.0",
          "model_name": "FloatProgressModel",
          "state": {
            "_dom_classes": [],
            "_model_module": "@jupyter-widgets/controls",
            "_model_module_version": "1.5.0",
            "_model_name": "FloatProgressModel",
            "_view_count": null,
            "_view_module": "@jupyter-widgets/controls",
            "_view_module_version": "1.5.0",
            "_view_name": "ProgressView",
            "bar_style": "success",
            "description": "",
            "description_tooltip": null,
            "layout": "IPY_MODEL_a44ac2c750fc422ebb992f7a8318db35",
            "max": 1421488104,
            "min": 0,
            "orientation": "horizontal",
            "style": "IPY_MODEL_9abdf228307c4cbfa9932009c26338b1",
            "value": 1421488104
          }
        },
        "317f44d99d1f47febbf8507eb0a6acc7": {
          "model_module": "@jupyter-widgets/base",
          "model_module_version": "1.2.0",
          "model_name": "LayoutModel",
          "state": {
            "_model_module": "@jupyter-widgets/base",
            "_model_module_version": "1.2.0",
            "_model_name": "LayoutModel",
            "_view_count": null,
            "_view_module": "@jupyter-widgets/base",
            "_view_module_version": "1.2.0",
            "_view_name": "LayoutView",
            "align_content": null,
            "align_items": null,
            "align_self": null,
            "border": null,
            "bottom": null,
            "display": null,
            "flex": null,
            "flex_flow": null,
            "grid_area": null,
            "grid_auto_columns": null,
            "grid_auto_flow": null,
            "grid_auto_rows": null,
            "grid_column": null,
            "grid_gap": null,
            "grid_row": null,
            "grid_template_areas": null,
            "grid_template_columns": null,
            "grid_template_rows": null,
            "height": null,
            "justify_content": null,
            "justify_items": null,
            "left": null,
            "margin": null,
            "max_height": null,
            "max_width": null,
            "min_height": null,
            "min_width": null,
            "object_fit": null,
            "object_position": null,
            "order": null,
            "overflow": null,
            "overflow_x": null,
            "overflow_y": null,
            "padding": null,
            "right": null,
            "top": null,
            "visibility": null,
            "width": null
          }
        },
        "33c747d3bb46418f9cbf3c4a4aa66535": {
          "model_module": "@jupyter-widgets/controls",
          "model_module_version": "1.5.0",
          "model_name": "DescriptionStyleModel",
          "state": {
            "_model_module": "@jupyter-widgets/controls",
            "_model_module_version": "1.5.0",
            "_model_name": "DescriptionStyleModel",
            "_view_count": null,
            "_view_module": "@jupyter-widgets/base",
            "_view_module_version": "1.2.0",
            "_view_name": "StyleView",
            "description_width": ""
          }
        },
        "34c6d03b26e44b0883e66b176e3b724a": {
          "model_module": "@jupyter-widgets/controls",
          "model_module_version": "1.5.0",
          "model_name": "HTMLModel",
          "state": {
            "_dom_classes": [],
            "_model_module": "@jupyter-widgets/controls",
            "_model_module_version": "1.5.0",
            "_model_name": "HTMLModel",
            "_view_count": null,
            "_view_module": "@jupyter-widgets/controls",
            "_view_module_version": "1.5.0",
            "_view_name": "HTMLView",
            "description": "",
            "description_tooltip": null,
            "layout": "IPY_MODEL_db32ecbec10a4f139f5d674e0f626f7b",
            "placeholder": "​",
            "style": "IPY_MODEL_c8458719352a4886a8c118582e17e974",
            "value": "vocab.json: 100%"
          }
        },
        "366509e2330a4ff186986cbebad5713f": {
          "model_module": "@jupyter-widgets/controls",
          "model_module_version": "1.5.0",
          "model_name": "ProgressStyleModel",
          "state": {
            "_model_module": "@jupyter-widgets/controls",
            "_model_module_version": "1.5.0",
            "_model_name": "ProgressStyleModel",
            "_view_count": null,
            "_view_module": "@jupyter-widgets/base",
            "_view_module_version": "1.2.0",
            "_view_name": "StyleView",
            "bar_color": null,
            "description_width": ""
          }
        },
        "36a6bccfe84649e9a7e8bc955a641a1e": {
          "model_module": "@jupyter-widgets/controls",
          "model_module_version": "1.5.0",
          "model_name": "FloatProgressModel",
          "state": {
            "_dom_classes": [],
            "_model_module": "@jupyter-widgets/controls",
            "_model_module_version": "1.5.0",
            "_model_name": "FloatProgressModel",
            "_view_count": null,
            "_view_module": "@jupyter-widgets/controls",
            "_view_module_version": "1.5.0",
            "_view_name": "ProgressView",
            "bar_style": "success",
            "description": "",
            "description_tooltip": null,
            "layout": "IPY_MODEL_203f5392ce224d148cabb94dea96f7aa",
            "max": 798293,
            "min": 0,
            "orientation": "horizontal",
            "style": "IPY_MODEL_3baf362527ae4b66b7dd21b5b4dc5661",
            "value": 798293
          }
        },
        "3baf362527ae4b66b7dd21b5b4dc5661": {
          "model_module": "@jupyter-widgets/controls",
          "model_module_version": "1.5.0",
          "model_name": "ProgressStyleModel",
          "state": {
            "_model_module": "@jupyter-widgets/controls",
            "_model_module_version": "1.5.0",
            "_model_name": "ProgressStyleModel",
            "_view_count": null,
            "_view_module": "@jupyter-widgets/base",
            "_view_module_version": "1.2.0",
            "_view_name": "StyleView",
            "bar_color": null,
            "description_width": ""
          }
        },
        "3e775f21e89c45328836eb3662af14f8": {
          "model_module": "@jupyter-widgets/controls",
          "model_module_version": "1.5.0",
          "model_name": "HTMLModel",
          "state": {
            "_dom_classes": [],
            "_model_module": "@jupyter-widgets/controls",
            "_model_module_version": "1.5.0",
            "_model_name": "HTMLModel",
            "_view_count": null,
            "_view_module": "@jupyter-widgets/controls",
            "_view_module_version": "1.5.0",
            "_view_name": "HTMLView",
            "description": "",
            "description_tooltip": null,
            "layout": "IPY_MODEL_5f145ecfa4d343cc815cd3676bc0b4e5",
            "placeholder": "​",
            "style": "IPY_MODEL_33c747d3bb46418f9cbf3c4a4aa66535",
            "value": " 1.42G/1.42G [00:08&lt;00:00, 208MB/s]"
          }
        },
        "4a9d865b326e42fba75d0e9c3816d343": {
          "model_module": "@jupyter-widgets/base",
          "model_module_version": "1.2.0",
          "model_name": "LayoutModel",
          "state": {
            "_model_module": "@jupyter-widgets/base",
            "_model_module_version": "1.2.0",
            "_model_name": "LayoutModel",
            "_view_count": null,
            "_view_module": "@jupyter-widgets/base",
            "_view_module_version": "1.2.0",
            "_view_name": "LayoutView",
            "align_content": null,
            "align_items": null,
            "align_self": null,
            "border": null,
            "bottom": null,
            "display": null,
            "flex": null,
            "flex_flow": null,
            "grid_area": null,
            "grid_auto_columns": null,
            "grid_auto_flow": null,
            "grid_auto_rows": null,
            "grid_column": null,
            "grid_gap": null,
            "grid_row": null,
            "grid_template_areas": null,
            "grid_template_columns": null,
            "grid_template_rows": null,
            "height": null,
            "justify_content": null,
            "justify_items": null,
            "left": null,
            "margin": null,
            "max_height": null,
            "max_width": null,
            "min_height": null,
            "min_width": null,
            "object_fit": null,
            "object_position": null,
            "order": null,
            "overflow": null,
            "overflow_x": null,
            "overflow_y": null,
            "padding": null,
            "right": null,
            "top": null,
            "visibility": null,
            "width": null
          }
        },
        "4d32d02b213b4727a8b6761910ac5bd3": {
          "model_module": "@jupyter-widgets/controls",
          "model_module_version": "1.5.0",
          "model_name": "HTMLModel",
          "state": {
            "_dom_classes": [],
            "_model_module": "@jupyter-widgets/controls",
            "_model_module_version": "1.5.0",
            "_model_name": "HTMLModel",
            "_view_count": null,
            "_view_module": "@jupyter-widgets/controls",
            "_view_module_version": "1.5.0",
            "_view_name": "HTMLView",
            "description": "",
            "description_tooltip": null,
            "layout": "IPY_MODEL_0a5ff9fcc79f4a2fa2f409a92212730c",
            "placeholder": "​",
            "style": "IPY_MODEL_1ba31076a97d43a6b5370c3c98643db7",
            "value": "tokenizer_config.json: 100%"
          }
        },
        "4e3021569fb0402abc6349aa36a489e9": {
          "model_module": "@jupyter-widgets/controls",
          "model_module_version": "1.5.0",
          "model_name": "HTMLModel",
          "state": {
            "_dom_classes": [],
            "_model_module": "@jupyter-widgets/controls",
            "_model_module_version": "1.5.0",
            "_model_name": "HTMLModel",
            "_view_count": null,
            "_view_module": "@jupyter-widgets/controls",
            "_view_module_version": "1.5.0",
            "_view_name": "HTMLView",
            "description": "",
            "description_tooltip": null,
            "layout": "IPY_MODEL_a92b87d7a9de4cf8bee16cc6cfa1fc4d",
            "placeholder": "​",
            "style": "IPY_MODEL_bd4ee56490be48048de28d723394b988",
            "value": "config.json: 100%"
          }
        },
        "4f4c228475544d93b1b34db2873f3e39": {
          "model_module": "@jupyter-widgets/controls",
          "model_module_version": "1.5.0",
          "model_name": "ProgressStyleModel",
          "state": {
            "_model_module": "@jupyter-widgets/controls",
            "_model_module_version": "1.5.0",
            "_model_name": "ProgressStyleModel",
            "_view_count": null,
            "_view_module": "@jupyter-widgets/base",
            "_view_module_version": "1.2.0",
            "_view_name": "StyleView",
            "bar_color": null,
            "description_width": ""
          }
        },
        "545ed0a6d0994e03b6bcba9e29ca2703": {
          "model_module": "@jupyter-widgets/controls",
          "model_module_version": "1.5.0",
          "model_name": "DescriptionStyleModel",
          "state": {
            "_model_module": "@jupyter-widgets/controls",
            "_model_module_version": "1.5.0",
            "_model_name": "DescriptionStyleModel",
            "_view_count": null,
            "_view_module": "@jupyter-widgets/base",
            "_view_module_version": "1.2.0",
            "_view_name": "StyleView",
            "description_width": ""
          }
        },
        "54f8651876b84668b90e6651184bd94c": {
          "model_module": "@jupyter-widgets/controls",
          "model_module_version": "1.5.0",
          "model_name": "DescriptionStyleModel",
          "state": {
            "_model_module": "@jupyter-widgets/controls",
            "_model_module_version": "1.5.0",
            "_model_name": "DescriptionStyleModel",
            "_view_count": null,
            "_view_module": "@jupyter-widgets/base",
            "_view_module_version": "1.2.0",
            "_view_name": "StyleView",
            "description_width": ""
          }
        },
        "564545cc43f44195ac715243eabb7c83": {
          "model_module": "@jupyter-widgets/controls",
          "model_module_version": "1.5.0",
          "model_name": "FloatProgressModel",
          "state": {
            "_dom_classes": [],
            "_model_module": "@jupyter-widgets/controls",
            "_model_module_version": "1.5.0",
            "_model_name": "FloatProgressModel",
            "_view_count": null,
            "_view_module": "@jupyter-widgets/controls",
            "_view_module_version": "1.5.0",
            "_view_name": "ProgressView",
            "bar_style": "success",
            "description": "",
            "description_tooltip": null,
            "layout": "IPY_MODEL_8899d3d338864d6f97003f25a1a3ff7c",
            "max": 1356047,
            "min": 0,
            "orientation": "horizontal",
            "style": "IPY_MODEL_7dd391b754584ce8b7e3a424acc74794",
            "value": 1356047
          }
        },
        "5b1a69884b9b49358447a1537c7b4625": {
          "model_module": "@jupyter-widgets/controls",
          "model_module_version": "1.5.0",
          "model_name": "HBoxModel",
          "state": {
            "_dom_classes": [],
            "_model_module": "@jupyter-widgets/controls",
            "_model_module_version": "1.5.0",
            "_model_name": "HBoxModel",
            "_view_count": null,
            "_view_module": "@jupyter-widgets/controls",
            "_view_module_version": "1.5.0",
            "_view_name": "HBoxView",
            "box_style": "",
            "children": [
              "IPY_MODEL_fc39087113944b619824e31e9c61f5a8",
              "IPY_MODEL_6eaf0c9c0e234557a5fe7ab4d50808b8",
              "IPY_MODEL_a3f62c377f654012adf5eb6d3d487ad3"
            ],
            "layout": "IPY_MODEL_f14d7493dd464ea9b51fe2e832e684d7"
          }
        },
        "5c9c921abefe45cc89ab6372f25cf1cf": {
          "model_module": "@jupyter-widgets/controls",
          "model_module_version": "1.5.0",
          "model_name": "HTMLModel",
          "state": {
            "_dom_classes": [],
            "_model_module": "@jupyter-widgets/controls",
            "_model_module_version": "1.5.0",
            "_model_name": "HTMLModel",
            "_view_count": null,
            "_view_module": "@jupyter-widgets/controls",
            "_view_module_version": "1.5.0",
            "_view_name": "HTMLView",
            "description": "",
            "description_tooltip": null,
            "layout": "IPY_MODEL_8563589e8f684dbba1a6145a6bbe5b12",
            "placeholder": "​",
            "style": "IPY_MODEL_d0ffc163187341d492cee4eab979f07b",
            "value": "model.safetensors: 100%"
          }
        },
        "5f145ecfa4d343cc815cd3676bc0b4e5": {
          "model_module": "@jupyter-widgets/base",
          "model_module_version": "1.2.0",
          "model_name": "LayoutModel",
          "state": {
            "_model_module": "@jupyter-widgets/base",
            "_model_module_version": "1.2.0",
            "_model_name": "LayoutModel",
            "_view_count": null,
            "_view_module": "@jupyter-widgets/base",
            "_view_module_version": "1.2.0",
            "_view_name": "LayoutView",
            "align_content": null,
            "align_items": null,
            "align_self": null,
            "border": null,
            "bottom": null,
            "display": null,
            "flex": null,
            "flex_flow": null,
            "grid_area": null,
            "grid_auto_columns": null,
            "grid_auto_flow": null,
            "grid_auto_rows": null,
            "grid_column": null,
            "grid_gap": null,
            "grid_row": null,
            "grid_template_areas": null,
            "grid_template_columns": null,
            "grid_template_rows": null,
            "height": null,
            "justify_content": null,
            "justify_items": null,
            "left": null,
            "margin": null,
            "max_height": null,
            "max_width": null,
            "min_height": null,
            "min_width": null,
            "object_fit": null,
            "object_position": null,
            "order": null,
            "overflow": null,
            "overflow_x": null,
            "overflow_y": null,
            "padding": null,
            "right": null,
            "top": null,
            "visibility": null,
            "width": null
          }
        },
        "6b287a72bbf7480fabfb627aaa4e3934": {
          "model_module": "@jupyter-widgets/controls",
          "model_module_version": "1.5.0",
          "model_name": "HTMLModel",
          "state": {
            "_dom_classes": [],
            "_model_module": "@jupyter-widgets/controls",
            "_model_module_version": "1.5.0",
            "_model_name": "HTMLModel",
            "_view_count": null,
            "_view_module": "@jupyter-widgets/controls",
            "_view_module_version": "1.5.0",
            "_view_name": "HTMLView",
            "description": "",
            "description_tooltip": null,
            "layout": "IPY_MODEL_ceeed9648fa340e1bd235b5e1325eec3",
            "placeholder": "​",
            "style": "IPY_MODEL_e7fb1180e87146bdad24ac4c6902fc78",
            "value": "tokenizer.json: 100%"
          }
        },
        "6b705a9ba7674136825f331405f3f27a": {
          "model_module": "@jupyter-widgets/base",
          "model_module_version": "1.2.0",
          "model_name": "LayoutModel",
          "state": {
            "_model_module": "@jupyter-widgets/base",
            "_model_module_version": "1.2.0",
            "_model_name": "LayoutModel",
            "_view_count": null,
            "_view_module": "@jupyter-widgets/base",
            "_view_module_version": "1.2.0",
            "_view_name": "LayoutView",
            "align_content": null,
            "align_items": null,
            "align_self": null,
            "border": null,
            "bottom": null,
            "display": null,
            "flex": null,
            "flex_flow": null,
            "grid_area": null,
            "grid_auto_columns": null,
            "grid_auto_flow": null,
            "grid_auto_rows": null,
            "grid_column": null,
            "grid_gap": null,
            "grid_row": null,
            "grid_template_areas": null,
            "grid_template_columns": null,
            "grid_template_rows": null,
            "height": null,
            "justify_content": null,
            "justify_items": null,
            "left": null,
            "margin": null,
            "max_height": null,
            "max_width": null,
            "min_height": null,
            "min_width": null,
            "object_fit": null,
            "object_position": null,
            "order": null,
            "overflow": null,
            "overflow_x": null,
            "overflow_y": null,
            "padding": null,
            "right": null,
            "top": null,
            "visibility": null,
            "width": null
          }
        },
        "6eaf0c9c0e234557a5fe7ab4d50808b8": {
          "model_module": "@jupyter-widgets/controls",
          "model_module_version": "1.5.0",
          "model_name": "FloatProgressModel",
          "state": {
            "_dom_classes": [],
            "_model_module": "@jupyter-widgets/controls",
            "_model_module_version": "1.5.0",
            "_model_name": "FloatProgressModel",
            "_view_count": null,
            "_view_module": "@jupyter-widgets/controls",
            "_view_module_version": "1.5.0",
            "_view_name": "ProgressView",
            "bar_style": "success",
            "description": "",
            "description_tooltip": null,
            "layout": "IPY_MODEL_6b705a9ba7674136825f331405f3f27a",
            "max": 239,
            "min": 0,
            "orientation": "horizontal",
            "style": "IPY_MODEL_4f4c228475544d93b1b34db2873f3e39",
            "value": 239
          }
        },
        "7dd391b754584ce8b7e3a424acc74794": {
          "model_module": "@jupyter-widgets/controls",
          "model_module_version": "1.5.0",
          "model_name": "ProgressStyleModel",
          "state": {
            "_model_module": "@jupyter-widgets/controls",
            "_model_module_version": "1.5.0",
            "_model_name": "ProgressStyleModel",
            "_view_count": null,
            "_view_module": "@jupyter-widgets/base",
            "_view_module_version": "1.2.0",
            "_view_name": "StyleView",
            "bar_color": null,
            "description_width": ""
          }
        },
        "80d9fabf618d4c06a012118aa87fa255": {
          "model_module": "@jupyter-widgets/controls",
          "model_module_version": "1.5.0",
          "model_name": "HBoxModel",
          "state": {
            "_dom_classes": [],
            "_model_module": "@jupyter-widgets/controls",
            "_model_module_version": "1.5.0",
            "_model_name": "HBoxModel",
            "_view_count": null,
            "_view_module": "@jupyter-widgets/controls",
            "_view_module_version": "1.5.0",
            "_view_name": "HBoxView",
            "box_style": "",
            "children": [
              "IPY_MODEL_b55e6acaaf4d4a6695d4c4a9dbd2f995",
              "IPY_MODEL_27cb80fe9d4246b88990be726b1bdfaf",
              "IPY_MODEL_bc1a52b61cfd49f9b21fcd58230b985f"
            ],
            "layout": "IPY_MODEL_9ed8c0fde27348b6aa2798c8fc084ef5"
          }
        },
        "82b68bc57032415b8c7d32805a951cda": {
          "model_module": "@jupyter-widgets/base",
          "model_module_version": "1.2.0",
          "model_name": "LayoutModel",
          "state": {
            "_model_module": "@jupyter-widgets/base",
            "_model_module_version": "1.2.0",
            "_model_name": "LayoutModel",
            "_view_count": null,
            "_view_module": "@jupyter-widgets/base",
            "_view_module_version": "1.2.0",
            "_view_name": "LayoutView",
            "align_content": null,
            "align_items": null,
            "align_self": null,
            "border": null,
            "bottom": null,
            "display": null,
            "flex": null,
            "flex_flow": null,
            "grid_area": null,
            "grid_auto_columns": null,
            "grid_auto_flow": null,
            "grid_auto_rows": null,
            "grid_column": null,
            "grid_gap": null,
            "grid_row": null,
            "grid_template_areas": null,
            "grid_template_columns": null,
            "grid_template_rows": null,
            "height": null,
            "justify_content": null,
            "justify_items": null,
            "left": null,
            "margin": null,
            "max_height": null,
            "max_width": null,
            "min_height": null,
            "min_width": null,
            "object_fit": null,
            "object_position": null,
            "order": null,
            "overflow": null,
            "overflow_x": null,
            "overflow_y": null,
            "padding": null,
            "right": null,
            "top": null,
            "visibility": null,
            "width": null
          }
        },
        "8563589e8f684dbba1a6145a6bbe5b12": {
          "model_module": "@jupyter-widgets/base",
          "model_module_version": "1.2.0",
          "model_name": "LayoutModel",
          "state": {
            "_model_module": "@jupyter-widgets/base",
            "_model_module_version": "1.2.0",
            "_model_name": "LayoutModel",
            "_view_count": null,
            "_view_module": "@jupyter-widgets/base",
            "_view_module_version": "1.2.0",
            "_view_name": "LayoutView",
            "align_content": null,
            "align_items": null,
            "align_self": null,
            "border": null,
            "bottom": null,
            "display": null,
            "flex": null,
            "flex_flow": null,
            "grid_area": null,
            "grid_auto_columns": null,
            "grid_auto_flow": null,
            "grid_auto_rows": null,
            "grid_column": null,
            "grid_gap": null,
            "grid_row": null,
            "grid_template_areas": null,
            "grid_template_columns": null,
            "grid_template_rows": null,
            "height": null,
            "justify_content": null,
            "justify_items": null,
            "left": null,
            "margin": null,
            "max_height": null,
            "max_width": null,
            "min_height": null,
            "min_width": null,
            "object_fit": null,
            "object_position": null,
            "order": null,
            "overflow": null,
            "overflow_x": null,
            "overflow_y": null,
            "padding": null,
            "right": null,
            "top": null,
            "visibility": null,
            "width": null
          }
        },
        "870d102e27474d1b9f9c825f575de13c": {
          "model_module": "@jupyter-widgets/controls",
          "model_module_version": "1.5.0",
          "model_name": "ProgressStyleModel",
          "state": {
            "_model_module": "@jupyter-widgets/controls",
            "_model_module_version": "1.5.0",
            "_model_name": "ProgressStyleModel",
            "_view_count": null,
            "_view_module": "@jupyter-widgets/base",
            "_view_module_version": "1.2.0",
            "_view_name": "StyleView",
            "bar_color": null,
            "description_width": ""
          }
        },
        "8899d3d338864d6f97003f25a1a3ff7c": {
          "model_module": "@jupyter-widgets/base",
          "model_module_version": "1.2.0",
          "model_name": "LayoutModel",
          "state": {
            "_model_module": "@jupyter-widgets/base",
            "_model_module_version": "1.2.0",
            "_model_name": "LayoutModel",
            "_view_count": null,
            "_view_module": "@jupyter-widgets/base",
            "_view_module_version": "1.2.0",
            "_view_name": "LayoutView",
            "align_content": null,
            "align_items": null,
            "align_self": null,
            "border": null,
            "bottom": null,
            "display": null,
            "flex": null,
            "flex_flow": null,
            "grid_area": null,
            "grid_auto_columns": null,
            "grid_auto_flow": null,
            "grid_auto_rows": null,
            "grid_column": null,
            "grid_gap": null,
            "grid_row": null,
            "grid_template_areas": null,
            "grid_template_columns": null,
            "grid_template_rows": null,
            "height": null,
            "justify_content": null,
            "justify_items": null,
            "left": null,
            "margin": null,
            "max_height": null,
            "max_width": null,
            "min_height": null,
            "min_width": null,
            "object_fit": null,
            "object_position": null,
            "order": null,
            "overflow": null,
            "overflow_x": null,
            "overflow_y": null,
            "padding": null,
            "right": null,
            "top": null,
            "visibility": null,
            "width": null
          }
        },
        "88f90159141741af832be3f4b61a5e44": {
          "model_module": "@jupyter-widgets/controls",
          "model_module_version": "1.5.0",
          "model_name": "HBoxModel",
          "state": {
            "_dom_classes": [],
            "_model_module": "@jupyter-widgets/controls",
            "_model_module_version": "1.5.0",
            "_model_name": "HBoxModel",
            "_view_count": null,
            "_view_module": "@jupyter-widgets/controls",
            "_view_module_version": "1.5.0",
            "_view_name": "HBoxView",
            "box_style": "",
            "children": [
              "IPY_MODEL_6b287a72bbf7480fabfb627aaa4e3934",
              "IPY_MODEL_564545cc43f44195ac715243eabb7c83",
              "IPY_MODEL_8c793aebf3a14d6f941540a098ebc9b2"
            ],
            "layout": "IPY_MODEL_bd54c5787113468f90bdd6eabea8ff85"
          }
        },
        "8c793aebf3a14d6f941540a098ebc9b2": {
          "model_module": "@jupyter-widgets/controls",
          "model_module_version": "1.5.0",
          "model_name": "HTMLModel",
          "state": {
            "_dom_classes": [],
            "_model_module": "@jupyter-widgets/controls",
            "_model_module_version": "1.5.0",
            "_model_name": "HTMLModel",
            "_view_count": null,
            "_view_module": "@jupyter-widgets/controls",
            "_view_module_version": "1.5.0",
            "_view_name": "HTMLView",
            "description": "",
            "description_tooltip": null,
            "layout": "IPY_MODEL_c60240cb11734d52aaedb6f331e89d96",
            "placeholder": "​",
            "style": "IPY_MODEL_54f8651876b84668b90e6651184bd94c",
            "value": " 1.36M/1.36M [00:00&lt;00:00, 35.5MB/s]"
          }
        },
        "948e0f6a79f34b73ba389033516c27a4": {
          "model_module": "@jupyter-widgets/controls",
          "model_module_version": "1.5.0",
          "model_name": "DescriptionStyleModel",
          "state": {
            "_model_module": "@jupyter-widgets/controls",
            "_model_module_version": "1.5.0",
            "_model_name": "DescriptionStyleModel",
            "_view_count": null,
            "_view_module": "@jupyter-widgets/base",
            "_view_module_version": "1.2.0",
            "_view_name": "StyleView",
            "description_width": ""
          }
        },
        "994a1dacaceb4bb0bdccf69b2e8b3b71": {
          "model_module": "@jupyter-widgets/controls",
          "model_module_version": "1.5.0",
          "model_name": "DescriptionStyleModel",
          "state": {
            "_model_module": "@jupyter-widgets/controls",
            "_model_module_version": "1.5.0",
            "_model_name": "DescriptionStyleModel",
            "_view_count": null,
            "_view_module": "@jupyter-widgets/base",
            "_view_module_version": "1.2.0",
            "_view_name": "StyleView",
            "description_width": ""
          }
        },
        "9abdf228307c4cbfa9932009c26338b1": {
          "model_module": "@jupyter-widgets/controls",
          "model_module_version": "1.5.0",
          "model_name": "ProgressStyleModel",
          "state": {
            "_model_module": "@jupyter-widgets/controls",
            "_model_module_version": "1.5.0",
            "_model_name": "ProgressStyleModel",
            "_view_count": null,
            "_view_module": "@jupyter-widgets/base",
            "_view_module_version": "1.2.0",
            "_view_name": "StyleView",
            "bar_color": null,
            "description_width": ""
          }
        },
        "9c0f28a4e17b4de5876ebd09acf47186": {
          "model_module": "@jupyter-widgets/controls",
          "model_module_version": "1.5.0",
          "model_name": "HBoxModel",
          "state": {
            "_dom_classes": [],
            "_model_module": "@jupyter-widgets/controls",
            "_model_module_version": "1.5.0",
            "_model_name": "HBoxModel",
            "_view_count": null,
            "_view_module": "@jupyter-widgets/controls",
            "_view_module_version": "1.5.0",
            "_view_name": "HBoxView",
            "box_style": "",
            "children": [
              "IPY_MODEL_34c6d03b26e44b0883e66b176e3b724a",
              "IPY_MODEL_36a6bccfe84649e9a7e8bc955a641a1e",
              "IPY_MODEL_ae947b51d6c5423fac15e8de01cedda4"
            ],
            "layout": "IPY_MODEL_e2f18d995dbf4ff5b5e37e5083d1fb49"
          }
        },
        "9ed8c0fde27348b6aa2798c8fc084ef5": {
          "model_module": "@jupyter-widgets/base",
          "model_module_version": "1.2.0",
          "model_name": "LayoutModel",
          "state": {
            "_model_module": "@jupyter-widgets/base",
            "_model_module_version": "1.2.0",
            "_model_name": "LayoutModel",
            "_view_count": null,
            "_view_module": "@jupyter-widgets/base",
            "_view_module_version": "1.2.0",
            "_view_name": "LayoutView",
            "align_content": null,
            "align_items": null,
            "align_self": null,
            "border": null,
            "bottom": null,
            "display": null,
            "flex": null,
            "flex_flow": null,
            "grid_area": null,
            "grid_auto_columns": null,
            "grid_auto_flow": null,
            "grid_auto_rows": null,
            "grid_column": null,
            "grid_gap": null,
            "grid_row": null,
            "grid_template_areas": null,
            "grid_template_columns": null,
            "grid_template_rows": null,
            "height": null,
            "justify_content": null,
            "justify_items": null,
            "left": null,
            "margin": null,
            "max_height": null,
            "max_width": null,
            "min_height": null,
            "min_width": null,
            "object_fit": null,
            "object_position": null,
            "order": null,
            "overflow": null,
            "overflow_x": null,
            "overflow_y": null,
            "padding": null,
            "right": null,
            "top": null,
            "visibility": null,
            "width": null
          }
        },
        "a3f62c377f654012adf5eb6d3d487ad3": {
          "model_module": "@jupyter-widgets/controls",
          "model_module_version": "1.5.0",
          "model_name": "HTMLModel",
          "state": {
            "_dom_classes": [],
            "_model_module": "@jupyter-widgets/controls",
            "_model_module_version": "1.5.0",
            "_model_name": "HTMLModel",
            "_view_count": null,
            "_view_module": "@jupyter-widgets/controls",
            "_view_module_version": "1.5.0",
            "_view_name": "HTMLView",
            "description": "",
            "description_tooltip": null,
            "layout": "IPY_MODEL_317f44d99d1f47febbf8507eb0a6acc7",
            "placeholder": "​",
            "style": "IPY_MODEL_948e0f6a79f34b73ba389033516c27a4",
            "value": " 239/239 [00:00&lt;00:00, 13.4kB/s]"
          }
        },
        "a44ac2c750fc422ebb992f7a8318db35": {
          "model_module": "@jupyter-widgets/base",
          "model_module_version": "1.2.0",
          "model_name": "LayoutModel",
          "state": {
            "_model_module": "@jupyter-widgets/base",
            "_model_module_version": "1.2.0",
            "_model_name": "LayoutModel",
            "_view_count": null,
            "_view_module": "@jupyter-widgets/base",
            "_view_module_version": "1.2.0",
            "_view_name": "LayoutView",
            "align_content": null,
            "align_items": null,
            "align_self": null,
            "border": null,
            "bottom": null,
            "display": null,
            "flex": null,
            "flex_flow": null,
            "grid_area": null,
            "grid_auto_columns": null,
            "grid_auto_flow": null,
            "grid_auto_rows": null,
            "grid_column": null,
            "grid_gap": null,
            "grid_row": null,
            "grid_template_areas": null,
            "grid_template_columns": null,
            "grid_template_rows": null,
            "height": null,
            "justify_content": null,
            "justify_items": null,
            "left": null,
            "margin": null,
            "max_height": null,
            "max_width": null,
            "min_height": null,
            "min_width": null,
            "object_fit": null,
            "object_position": null,
            "order": null,
            "overflow": null,
            "overflow_x": null,
            "overflow_y": null,
            "padding": null,
            "right": null,
            "top": null,
            "visibility": null,
            "width": null
          }
        },
        "a6937137036f4b89b67f012ab83b8c08": {
          "model_module": "@jupyter-widgets/controls",
          "model_module_version": "1.5.0",
          "model_name": "DescriptionStyleModel",
          "state": {
            "_model_module": "@jupyter-widgets/controls",
            "_model_module_version": "1.5.0",
            "_model_name": "DescriptionStyleModel",
            "_view_count": null,
            "_view_module": "@jupyter-widgets/base",
            "_view_module_version": "1.2.0",
            "_view_name": "StyleView",
            "description_width": ""
          }
        },
        "a7b2bb3e94ef4ba49dda16ba6fbac501": {
          "model_module": "@jupyter-widgets/base",
          "model_module_version": "1.2.0",
          "model_name": "LayoutModel",
          "state": {
            "_model_module": "@jupyter-widgets/base",
            "_model_module_version": "1.2.0",
            "_model_name": "LayoutModel",
            "_view_count": null,
            "_view_module": "@jupyter-widgets/base",
            "_view_module_version": "1.2.0",
            "_view_name": "LayoutView",
            "align_content": null,
            "align_items": null,
            "align_self": null,
            "border": null,
            "bottom": null,
            "display": null,
            "flex": null,
            "flex_flow": null,
            "grid_area": null,
            "grid_auto_columns": null,
            "grid_auto_flow": null,
            "grid_auto_rows": null,
            "grid_column": null,
            "grid_gap": null,
            "grid_row": null,
            "grid_template_areas": null,
            "grid_template_columns": null,
            "grid_template_rows": null,
            "height": null,
            "justify_content": null,
            "justify_items": null,
            "left": null,
            "margin": null,
            "max_height": null,
            "max_width": null,
            "min_height": null,
            "min_width": null,
            "object_fit": null,
            "object_position": null,
            "order": null,
            "overflow": null,
            "overflow_x": null,
            "overflow_y": null,
            "padding": null,
            "right": null,
            "top": null,
            "visibility": null,
            "width": null
          }
        },
        "a92b87d7a9de4cf8bee16cc6cfa1fc4d": {
          "model_module": "@jupyter-widgets/base",
          "model_module_version": "1.2.0",
          "model_name": "LayoutModel",
          "state": {
            "_model_module": "@jupyter-widgets/base",
            "_model_module_version": "1.2.0",
            "_model_name": "LayoutModel",
            "_view_count": null,
            "_view_module": "@jupyter-widgets/base",
            "_view_module_version": "1.2.0",
            "_view_name": "LayoutView",
            "align_content": null,
            "align_items": null,
            "align_self": null,
            "border": null,
            "bottom": null,
            "display": null,
            "flex": null,
            "flex_flow": null,
            "grid_area": null,
            "grid_auto_columns": null,
            "grid_auto_flow": null,
            "grid_auto_rows": null,
            "grid_column": null,
            "grid_gap": null,
            "grid_row": null,
            "grid_template_areas": null,
            "grid_template_columns": null,
            "grid_template_rows": null,
            "height": null,
            "justify_content": null,
            "justify_items": null,
            "left": null,
            "margin": null,
            "max_height": null,
            "max_width": null,
            "min_height": null,
            "min_width": null,
            "object_fit": null,
            "object_position": null,
            "order": null,
            "overflow": null,
            "overflow_x": null,
            "overflow_y": null,
            "padding": null,
            "right": null,
            "top": null,
            "visibility": null,
            "width": null
          }
        },
        "ae947b51d6c5423fac15e8de01cedda4": {
          "model_module": "@jupyter-widgets/controls",
          "model_module_version": "1.5.0",
          "model_name": "HTMLModel",
          "state": {
            "_dom_classes": [],
            "_model_module": "@jupyter-widgets/controls",
            "_model_module_version": "1.5.0",
            "_model_name": "HTMLModel",
            "_view_count": null,
            "_view_module": "@jupyter-widgets/controls",
            "_view_module_version": "1.5.0",
            "_view_name": "HTMLView",
            "description": "",
            "description_tooltip": null,
            "layout": "IPY_MODEL_f1847f0165534fb38b792e139d1367bb",
            "placeholder": "​",
            "style": "IPY_MODEL_df1b8c5c414f4ffeb95997f544e5ddb8",
            "value": " 798k/798k [00:00&lt;00:00, 14.7MB/s]"
          }
        },
        "b099b62cf4e946fab75b108fb29dbca3": {
          "model_module": "@jupyter-widgets/controls",
          "model_module_version": "1.5.0",
          "model_name": "HBoxModel",
          "state": {
            "_dom_classes": [],
            "_model_module": "@jupyter-widgets/controls",
            "_model_module_version": "1.5.0",
            "_model_name": "HBoxModel",
            "_view_count": null,
            "_view_module": "@jupyter-widgets/controls",
            "_view_module_version": "1.5.0",
            "_view_name": "HBoxView",
            "box_style": "",
            "children": [
              "IPY_MODEL_5c9c921abefe45cc89ab6372f25cf1cf",
              "IPY_MODEL_309a29ac4bb74311b44d0b1c99f8948c",
              "IPY_MODEL_3e775f21e89c45328836eb3662af14f8"
            ],
            "layout": "IPY_MODEL_bc22bd82f6a0490899f442361a7a677e"
          }
        },
        "b55e6acaaf4d4a6695d4c4a9dbd2f995": {
          "model_module": "@jupyter-widgets/controls",
          "model_module_version": "1.5.0",
          "model_name": "HTMLModel",
          "state": {
            "_dom_classes": [],
            "_model_module": "@jupyter-widgets/controls",
            "_model_module_version": "1.5.0",
            "_model_name": "HTMLModel",
            "_view_count": null,
            "_view_module": "@jupyter-widgets/controls",
            "_view_module_version": "1.5.0",
            "_view_name": "HTMLView",
            "description": "",
            "description_tooltip": null,
            "layout": "IPY_MODEL_a7b2bb3e94ef4ba49dda16ba6fbac501",
            "placeholder": "​",
            "style": "IPY_MODEL_994a1dacaceb4bb0bdccf69b2e8b3b71",
            "value": "merges.txt: 100%"
          }
        },
        "bc1a52b61cfd49f9b21fcd58230b985f": {
          "model_module": "@jupyter-widgets/controls",
          "model_module_version": "1.5.0",
          "model_name": "HTMLModel",
          "state": {
            "_dom_classes": [],
            "_model_module": "@jupyter-widgets/controls",
            "_model_module_version": "1.5.0",
            "_model_name": "HTMLModel",
            "_view_count": null,
            "_view_module": "@jupyter-widgets/controls",
            "_view_module_version": "1.5.0",
            "_view_name": "HTMLView",
            "description": "",
            "description_tooltip": null,
            "layout": "IPY_MODEL_82b68bc57032415b8c7d32805a951cda",
            "placeholder": "​",
            "style": "IPY_MODEL_a6937137036f4b89b67f012ab83b8c08",
            "value": " 456k/456k [00:00&lt;00:00, 19.0MB/s]"
          }
        },
        "bc22bd82f6a0490899f442361a7a677e": {
          "model_module": "@jupyter-widgets/base",
          "model_module_version": "1.2.0",
          "model_name": "LayoutModel",
          "state": {
            "_model_module": "@jupyter-widgets/base",
            "_model_module_version": "1.2.0",
            "_model_name": "LayoutModel",
            "_view_count": null,
            "_view_module": "@jupyter-widgets/base",
            "_view_module_version": "1.2.0",
            "_view_name": "LayoutView",
            "align_content": null,
            "align_items": null,
            "align_self": null,
            "border": null,
            "bottom": null,
            "display": null,
            "flex": null,
            "flex_flow": null,
            "grid_area": null,
            "grid_auto_columns": null,
            "grid_auto_flow": null,
            "grid_auto_rows": null,
            "grid_column": null,
            "grid_gap": null,
            "grid_row": null,
            "grid_template_areas": null,
            "grid_template_columns": null,
            "grid_template_rows": null,
            "height": null,
            "justify_content": null,
            "justify_items": null,
            "left": null,
            "margin": null,
            "max_height": null,
            "max_width": null,
            "min_height": null,
            "min_width": null,
            "object_fit": null,
            "object_position": null,
            "order": null,
            "overflow": null,
            "overflow_x": null,
            "overflow_y": null,
            "padding": null,
            "right": null,
            "top": null,
            "visibility": null,
            "width": null
          }
        },
        "bd4ee56490be48048de28d723394b988": {
          "model_module": "@jupyter-widgets/controls",
          "model_module_version": "1.5.0",
          "model_name": "DescriptionStyleModel",
          "state": {
            "_model_module": "@jupyter-widgets/controls",
            "_model_module_version": "1.5.0",
            "_model_name": "DescriptionStyleModel",
            "_view_count": null,
            "_view_module": "@jupyter-widgets/base",
            "_view_module_version": "1.2.0",
            "_view_name": "StyleView",
            "description_width": ""
          }
        },
        "bd54c5787113468f90bdd6eabea8ff85": {
          "model_module": "@jupyter-widgets/base",
          "model_module_version": "1.2.0",
          "model_name": "LayoutModel",
          "state": {
            "_model_module": "@jupyter-widgets/base",
            "_model_module_version": "1.2.0",
            "_model_name": "LayoutModel",
            "_view_count": null,
            "_view_module": "@jupyter-widgets/base",
            "_view_module_version": "1.2.0",
            "_view_name": "LayoutView",
            "align_content": null,
            "align_items": null,
            "align_self": null,
            "border": null,
            "bottom": null,
            "display": null,
            "flex": null,
            "flex_flow": null,
            "grid_area": null,
            "grid_auto_columns": null,
            "grid_auto_flow": null,
            "grid_auto_rows": null,
            "grid_column": null,
            "grid_gap": null,
            "grid_row": null,
            "grid_template_areas": null,
            "grid_template_columns": null,
            "grid_template_rows": null,
            "height": null,
            "justify_content": null,
            "justify_items": null,
            "left": null,
            "margin": null,
            "max_height": null,
            "max_width": null,
            "min_height": null,
            "min_width": null,
            "object_fit": null,
            "object_position": null,
            "order": null,
            "overflow": null,
            "overflow_x": null,
            "overflow_y": null,
            "padding": null,
            "right": null,
            "top": null,
            "visibility": null,
            "width": null
          }
        },
        "bf9f08571c314f42a212c0e3662a1a0b": {
          "model_module": "@jupyter-widgets/controls",
          "model_module_version": "1.5.0",
          "model_name": "DescriptionStyleModel",
          "state": {
            "_model_module": "@jupyter-widgets/controls",
            "_model_module_version": "1.5.0",
            "_model_name": "DescriptionStyleModel",
            "_view_count": null,
            "_view_module": "@jupyter-widgets/base",
            "_view_module_version": "1.2.0",
            "_view_name": "StyleView",
            "description_width": ""
          }
        },
        "c320b8532f074c94bd62cbff0a9df257": {
          "model_module": "@jupyter-widgets/base",
          "model_module_version": "1.2.0",
          "model_name": "LayoutModel",
          "state": {
            "_model_module": "@jupyter-widgets/base",
            "_model_module_version": "1.2.0",
            "_model_name": "LayoutModel",
            "_view_count": null,
            "_view_module": "@jupyter-widgets/base",
            "_view_module_version": "1.2.0",
            "_view_name": "LayoutView",
            "align_content": null,
            "align_items": null,
            "align_self": null,
            "border": null,
            "bottom": null,
            "display": null,
            "flex": null,
            "flex_flow": null,
            "grid_area": null,
            "grid_auto_columns": null,
            "grid_auto_flow": null,
            "grid_auto_rows": null,
            "grid_column": null,
            "grid_gap": null,
            "grid_row": null,
            "grid_template_areas": null,
            "grid_template_columns": null,
            "grid_template_rows": null,
            "height": null,
            "justify_content": null,
            "justify_items": null,
            "left": null,
            "margin": null,
            "max_height": null,
            "max_width": null,
            "min_height": null,
            "min_width": null,
            "object_fit": null,
            "object_position": null,
            "order": null,
            "overflow": null,
            "overflow_x": null,
            "overflow_y": null,
            "padding": null,
            "right": null,
            "top": null,
            "visibility": null,
            "width": null
          }
        },
        "c60240cb11734d52aaedb6f331e89d96": {
          "model_module": "@jupyter-widgets/base",
          "model_module_version": "1.2.0",
          "model_name": "LayoutModel",
          "state": {
            "_model_module": "@jupyter-widgets/base",
            "_model_module_version": "1.2.0",
            "_model_name": "LayoutModel",
            "_view_count": null,
            "_view_module": "@jupyter-widgets/base",
            "_view_module_version": "1.2.0",
            "_view_name": "LayoutView",
            "align_content": null,
            "align_items": null,
            "align_self": null,
            "border": null,
            "bottom": null,
            "display": null,
            "flex": null,
            "flex_flow": null,
            "grid_area": null,
            "grid_auto_columns": null,
            "grid_auto_flow": null,
            "grid_auto_rows": null,
            "grid_column": null,
            "grid_gap": null,
            "grid_row": null,
            "grid_template_areas": null,
            "grid_template_columns": null,
            "grid_template_rows": null,
            "height": null,
            "justify_content": null,
            "justify_items": null,
            "left": null,
            "margin": null,
            "max_height": null,
            "max_width": null,
            "min_height": null,
            "min_width": null,
            "object_fit": null,
            "object_position": null,
            "order": null,
            "overflow": null,
            "overflow_x": null,
            "overflow_y": null,
            "padding": null,
            "right": null,
            "top": null,
            "visibility": null,
            "width": null
          }
        },
        "c8458719352a4886a8c118582e17e974": {
          "model_module": "@jupyter-widgets/controls",
          "model_module_version": "1.5.0",
          "model_name": "DescriptionStyleModel",
          "state": {
            "_model_module": "@jupyter-widgets/controls",
            "_model_module_version": "1.5.0",
            "_model_name": "DescriptionStyleModel",
            "_view_count": null,
            "_view_module": "@jupyter-widgets/base",
            "_view_module_version": "1.2.0",
            "_view_name": "StyleView",
            "description_width": ""
          }
        },
        "c99536c25281479680c080a7b5935920": {
          "model_module": "@jupyter-widgets/controls",
          "model_module_version": "1.5.0",
          "model_name": "DescriptionStyleModel",
          "state": {
            "_model_module": "@jupyter-widgets/controls",
            "_model_module_version": "1.5.0",
            "_model_name": "DescriptionStyleModel",
            "_view_count": null,
            "_view_module": "@jupyter-widgets/base",
            "_view_module_version": "1.2.0",
            "_view_name": "StyleView",
            "description_width": ""
          }
        },
        "cb3d5a5b04574ad8a6bfe5b496098f23": {
          "model_module": "@jupyter-widgets/controls",
          "model_module_version": "1.5.0",
          "model_name": "HBoxModel",
          "state": {
            "_dom_classes": [],
            "_model_module": "@jupyter-widgets/controls",
            "_model_module_version": "1.5.0",
            "_model_name": "HBoxModel",
            "_view_count": null,
            "_view_module": "@jupyter-widgets/controls",
            "_view_module_version": "1.5.0",
            "_view_name": "HBoxView",
            "box_style": "",
            "children": [
              "IPY_MODEL_4e3021569fb0402abc6349aa36a489e9",
              "IPY_MODEL_fc98cec68b29445ebb623462b845374c",
              "IPY_MODEL_0c600c21056e4acaad654a38fd892ac9"
            ],
            "layout": "IPY_MODEL_4a9d865b326e42fba75d0e9c3816d343"
          }
        },
        "cd65f881f1fc4de5b8971fcc01ae9e52": {
          "model_module": "@jupyter-widgets/base",
          "model_module_version": "1.2.0",
          "model_name": "LayoutModel",
          "state": {
            "_model_module": "@jupyter-widgets/base",
            "_model_module_version": "1.2.0",
            "_model_name": "LayoutModel",
            "_view_count": null,
            "_view_module": "@jupyter-widgets/base",
            "_view_module_version": "1.2.0",
            "_view_name": "LayoutView",
            "align_content": null,
            "align_items": null,
            "align_self": null,
            "border": null,
            "bottom": null,
            "display": null,
            "flex": null,
            "flex_flow": null,
            "grid_area": null,
            "grid_auto_columns": null,
            "grid_auto_flow": null,
            "grid_auto_rows": null,
            "grid_column": null,
            "grid_gap": null,
            "grid_row": null,
            "grid_template_areas": null,
            "grid_template_columns": null,
            "grid_template_rows": null,
            "height": null,
            "justify_content": null,
            "justify_items": null,
            "left": null,
            "margin": null,
            "max_height": null,
            "max_width": null,
            "min_height": null,
            "min_width": null,
            "object_fit": null,
            "object_position": null,
            "order": null,
            "overflow": null,
            "overflow_x": null,
            "overflow_y": null,
            "padding": null,
            "right": null,
            "top": null,
            "visibility": null,
            "width": null
          }
        },
        "ceeed9648fa340e1bd235b5e1325eec3": {
          "model_module": "@jupyter-widgets/base",
          "model_module_version": "1.2.0",
          "model_name": "LayoutModel",
          "state": {
            "_model_module": "@jupyter-widgets/base",
            "_model_module_version": "1.2.0",
            "_model_name": "LayoutModel",
            "_view_count": null,
            "_view_module": "@jupyter-widgets/base",
            "_view_module_version": "1.2.0",
            "_view_name": "LayoutView",
            "align_content": null,
            "align_items": null,
            "align_self": null,
            "border": null,
            "bottom": null,
            "display": null,
            "flex": null,
            "flex_flow": null,
            "grid_area": null,
            "grid_auto_columns": null,
            "grid_auto_flow": null,
            "grid_auto_rows": null,
            "grid_column": null,
            "grid_gap": null,
            "grid_row": null,
            "grid_template_areas": null,
            "grid_template_columns": null,
            "grid_template_rows": null,
            "height": null,
            "justify_content": null,
            "justify_items": null,
            "left": null,
            "margin": null,
            "max_height": null,
            "max_width": null,
            "min_height": null,
            "min_width": null,
            "object_fit": null,
            "object_position": null,
            "order": null,
            "overflow": null,
            "overflow_x": null,
            "overflow_y": null,
            "padding": null,
            "right": null,
            "top": null,
            "visibility": null,
            "width": null
          }
        },
        "d0ffc163187341d492cee4eab979f07b": {
          "model_module": "@jupyter-widgets/controls",
          "model_module_version": "1.5.0",
          "model_name": "DescriptionStyleModel",
          "state": {
            "_model_module": "@jupyter-widgets/controls",
            "_model_module_version": "1.5.0",
            "_model_name": "DescriptionStyleModel",
            "_view_count": null,
            "_view_module": "@jupyter-widgets/base",
            "_view_module_version": "1.2.0",
            "_view_name": "StyleView",
            "description_width": ""
          }
        },
        "d3872b590da74855a985d3526522cca3": {
          "model_module": "@jupyter-widgets/controls",
          "model_module_version": "1.5.0",
          "model_name": "HTMLModel",
          "state": {
            "_dom_classes": [],
            "_model_module": "@jupyter-widgets/controls",
            "_model_module_version": "1.5.0",
            "_model_name": "HTMLModel",
            "_view_count": null,
            "_view_module": "@jupyter-widgets/controls",
            "_view_module_version": "1.5.0",
            "_view_name": "HTMLView",
            "description": "",
            "description_tooltip": null,
            "layout": "IPY_MODEL_cd65f881f1fc4de5b8971fcc01ae9e52",
            "placeholder": "​",
            "style": "IPY_MODEL_c99536c25281479680c080a7b5935920",
            "value": " 328/328 [00:00&lt;00:00, 16.7kB/s]"
          }
        },
        "d3a9dbc33b0a4af6841294644d21076f": {
          "model_module": "@jupyter-widgets/base",
          "model_module_version": "1.2.0",
          "model_name": "LayoutModel",
          "state": {
            "_model_module": "@jupyter-widgets/base",
            "_model_module_version": "1.2.0",
            "_model_name": "LayoutModel",
            "_view_count": null,
            "_view_module": "@jupyter-widgets/base",
            "_view_module_version": "1.2.0",
            "_view_name": "LayoutView",
            "align_content": null,
            "align_items": null,
            "align_self": null,
            "border": null,
            "bottom": null,
            "display": null,
            "flex": null,
            "flex_flow": null,
            "grid_area": null,
            "grid_auto_columns": null,
            "grid_auto_flow": null,
            "grid_auto_rows": null,
            "grid_column": null,
            "grid_gap": null,
            "grid_row": null,
            "grid_template_areas": null,
            "grid_template_columns": null,
            "grid_template_rows": null,
            "height": null,
            "justify_content": null,
            "justify_items": null,
            "left": null,
            "margin": null,
            "max_height": null,
            "max_width": null,
            "min_height": null,
            "min_width": null,
            "object_fit": null,
            "object_position": null,
            "order": null,
            "overflow": null,
            "overflow_x": null,
            "overflow_y": null,
            "padding": null,
            "right": null,
            "top": null,
            "visibility": null,
            "width": null
          }
        },
        "db2fc14d543b408ab8bf3a2e428c0d18": {
          "model_module": "@jupyter-widgets/base",
          "model_module_version": "1.2.0",
          "model_name": "LayoutModel",
          "state": {
            "_model_module": "@jupyter-widgets/base",
            "_model_module_version": "1.2.0",
            "_model_name": "LayoutModel",
            "_view_count": null,
            "_view_module": "@jupyter-widgets/base",
            "_view_module_version": "1.2.0",
            "_view_name": "LayoutView",
            "align_content": null,
            "align_items": null,
            "align_self": null,
            "border": null,
            "bottom": null,
            "display": null,
            "flex": null,
            "flex_flow": null,
            "grid_area": null,
            "grid_auto_columns": null,
            "grid_auto_flow": null,
            "grid_auto_rows": null,
            "grid_column": null,
            "grid_gap": null,
            "grid_row": null,
            "grid_template_areas": null,
            "grid_template_columns": null,
            "grid_template_rows": null,
            "height": null,
            "justify_content": null,
            "justify_items": null,
            "left": null,
            "margin": null,
            "max_height": null,
            "max_width": null,
            "min_height": null,
            "min_width": null,
            "object_fit": null,
            "object_position": null,
            "order": null,
            "overflow": null,
            "overflow_x": null,
            "overflow_y": null,
            "padding": null,
            "right": null,
            "top": null,
            "visibility": null,
            "width": null
          }
        },
        "db32ecbec10a4f139f5d674e0f626f7b": {
          "model_module": "@jupyter-widgets/base",
          "model_module_version": "1.2.0",
          "model_name": "LayoutModel",
          "state": {
            "_model_module": "@jupyter-widgets/base",
            "_model_module_version": "1.2.0",
            "_model_name": "LayoutModel",
            "_view_count": null,
            "_view_module": "@jupyter-widgets/base",
            "_view_module_version": "1.2.0",
            "_view_name": "LayoutView",
            "align_content": null,
            "align_items": null,
            "align_self": null,
            "border": null,
            "bottom": null,
            "display": null,
            "flex": null,
            "flex_flow": null,
            "grid_area": null,
            "grid_auto_columns": null,
            "grid_auto_flow": null,
            "grid_auto_rows": null,
            "grid_column": null,
            "grid_gap": null,
            "grid_row": null,
            "grid_template_areas": null,
            "grid_template_columns": null,
            "grid_template_rows": null,
            "height": null,
            "justify_content": null,
            "justify_items": null,
            "left": null,
            "margin": null,
            "max_height": null,
            "max_width": null,
            "min_height": null,
            "min_width": null,
            "object_fit": null,
            "object_position": null,
            "order": null,
            "overflow": null,
            "overflow_x": null,
            "overflow_y": null,
            "padding": null,
            "right": null,
            "top": null,
            "visibility": null,
            "width": null
          }
        },
        "df1b8c5c414f4ffeb95997f544e5ddb8": {
          "model_module": "@jupyter-widgets/controls",
          "model_module_version": "1.5.0",
          "model_name": "DescriptionStyleModel",
          "state": {
            "_model_module": "@jupyter-widgets/controls",
            "_model_module_version": "1.5.0",
            "_model_name": "DescriptionStyleModel",
            "_view_count": null,
            "_view_module": "@jupyter-widgets/base",
            "_view_module_version": "1.2.0",
            "_view_name": "StyleView",
            "description_width": ""
          }
        },
        "dfdc65aa13e64819bf0fb9c6829927c4": {
          "model_module": "@jupyter-widgets/controls",
          "model_module_version": "1.5.0",
          "model_name": "HBoxModel",
          "state": {
            "_dom_classes": [],
            "_model_module": "@jupyter-widgets/controls",
            "_model_module_version": "1.5.0",
            "_model_name": "HBoxModel",
            "_view_count": null,
            "_view_module": "@jupyter-widgets/controls",
            "_view_module_version": "1.5.0",
            "_view_name": "HBoxView",
            "box_style": "",
            "children": [
              "IPY_MODEL_4d32d02b213b4727a8b6761910ac5bd3",
              "IPY_MODEL_2921138d5efa42e2b5650100b2f4923d",
              "IPY_MODEL_d3872b590da74855a985d3526522cca3"
            ],
            "layout": "IPY_MODEL_f9852de9eb384b43b86d1f273780bc9d"
          }
        },
        "e2f18d995dbf4ff5b5e37e5083d1fb49": {
          "model_module": "@jupyter-widgets/base",
          "model_module_version": "1.2.0",
          "model_name": "LayoutModel",
          "state": {
            "_model_module": "@jupyter-widgets/base",
            "_model_module_version": "1.2.0",
            "_model_name": "LayoutModel",
            "_view_count": null,
            "_view_module": "@jupyter-widgets/base",
            "_view_module_version": "1.2.0",
            "_view_name": "LayoutView",
            "align_content": null,
            "align_items": null,
            "align_self": null,
            "border": null,
            "bottom": null,
            "display": null,
            "flex": null,
            "flex_flow": null,
            "grid_area": null,
            "grid_auto_columns": null,
            "grid_auto_flow": null,
            "grid_auto_rows": null,
            "grid_column": null,
            "grid_gap": null,
            "grid_row": null,
            "grid_template_areas": null,
            "grid_template_columns": null,
            "grid_template_rows": null,
            "height": null,
            "justify_content": null,
            "justify_items": null,
            "left": null,
            "margin": null,
            "max_height": null,
            "max_width": null,
            "min_height": null,
            "min_width": null,
            "object_fit": null,
            "object_position": null,
            "order": null,
            "overflow": null,
            "overflow_x": null,
            "overflow_y": null,
            "padding": null,
            "right": null,
            "top": null,
            "visibility": null,
            "width": null
          }
        },
        "e7fb1180e87146bdad24ac4c6902fc78": {
          "model_module": "@jupyter-widgets/controls",
          "model_module_version": "1.5.0",
          "model_name": "DescriptionStyleModel",
          "state": {
            "_model_module": "@jupyter-widgets/controls",
            "_model_module_version": "1.5.0",
            "_model_name": "DescriptionStyleModel",
            "_view_count": null,
            "_view_module": "@jupyter-widgets/base",
            "_view_module_version": "1.2.0",
            "_view_name": "StyleView",
            "description_width": ""
          }
        },
        "f14d7493dd464ea9b51fe2e832e684d7": {
          "model_module": "@jupyter-widgets/base",
          "model_module_version": "1.2.0",
          "model_name": "LayoutModel",
          "state": {
            "_model_module": "@jupyter-widgets/base",
            "_model_module_version": "1.2.0",
            "_model_name": "LayoutModel",
            "_view_count": null,
            "_view_module": "@jupyter-widgets/base",
            "_view_module_version": "1.2.0",
            "_view_name": "LayoutView",
            "align_content": null,
            "align_items": null,
            "align_self": null,
            "border": null,
            "bottom": null,
            "display": null,
            "flex": null,
            "flex_flow": null,
            "grid_area": null,
            "grid_auto_columns": null,
            "grid_auto_flow": null,
            "grid_auto_rows": null,
            "grid_column": null,
            "grid_gap": null,
            "grid_row": null,
            "grid_template_areas": null,
            "grid_template_columns": null,
            "grid_template_rows": null,
            "height": null,
            "justify_content": null,
            "justify_items": null,
            "left": null,
            "margin": null,
            "max_height": null,
            "max_width": null,
            "min_height": null,
            "min_width": null,
            "object_fit": null,
            "object_position": null,
            "order": null,
            "overflow": null,
            "overflow_x": null,
            "overflow_y": null,
            "padding": null,
            "right": null,
            "top": null,
            "visibility": null,
            "width": null
          }
        },
        "f1847f0165534fb38b792e139d1367bb": {
          "model_module": "@jupyter-widgets/base",
          "model_module_version": "1.2.0",
          "model_name": "LayoutModel",
          "state": {
            "_model_module": "@jupyter-widgets/base",
            "_model_module_version": "1.2.0",
            "_model_name": "LayoutModel",
            "_view_count": null,
            "_view_module": "@jupyter-widgets/base",
            "_view_module_version": "1.2.0",
            "_view_name": "LayoutView",
            "align_content": null,
            "align_items": null,
            "align_self": null,
            "border": null,
            "bottom": null,
            "display": null,
            "flex": null,
            "flex_flow": null,
            "grid_area": null,
            "grid_auto_columns": null,
            "grid_auto_flow": null,
            "grid_auto_rows": null,
            "grid_column": null,
            "grid_gap": null,
            "grid_row": null,
            "grid_template_areas": null,
            "grid_template_columns": null,
            "grid_template_rows": null,
            "height": null,
            "justify_content": null,
            "justify_items": null,
            "left": null,
            "margin": null,
            "max_height": null,
            "max_width": null,
            "min_height": null,
            "min_width": null,
            "object_fit": null,
            "object_position": null,
            "order": null,
            "overflow": null,
            "overflow_x": null,
            "overflow_y": null,
            "padding": null,
            "right": null,
            "top": null,
            "visibility": null,
            "width": null
          }
        },
        "f9852de9eb384b43b86d1f273780bc9d": {
          "model_module": "@jupyter-widgets/base",
          "model_module_version": "1.2.0",
          "model_name": "LayoutModel",
          "state": {
            "_model_module": "@jupyter-widgets/base",
            "_model_module_version": "1.2.0",
            "_model_name": "LayoutModel",
            "_view_count": null,
            "_view_module": "@jupyter-widgets/base",
            "_view_module_version": "1.2.0",
            "_view_name": "LayoutView",
            "align_content": null,
            "align_items": null,
            "align_self": null,
            "border": null,
            "bottom": null,
            "display": null,
            "flex": null,
            "flex_flow": null,
            "grid_area": null,
            "grid_auto_columns": null,
            "grid_auto_flow": null,
            "grid_auto_rows": null,
            "grid_column": null,
            "grid_gap": null,
            "grid_row": null,
            "grid_template_areas": null,
            "grid_template_columns": null,
            "grid_template_rows": null,
            "height": null,
            "justify_content": null,
            "justify_items": null,
            "left": null,
            "margin": null,
            "max_height": null,
            "max_width": null,
            "min_height": null,
            "min_width": null,
            "object_fit": null,
            "object_position": null,
            "order": null,
            "overflow": null,
            "overflow_x": null,
            "overflow_y": null,
            "padding": null,
            "right": null,
            "top": null,
            "visibility": null,
            "width": null
          }
        },
        "fc39087113944b619824e31e9c61f5a8": {
          "model_module": "@jupyter-widgets/controls",
          "model_module_version": "1.5.0",
          "model_name": "HTMLModel",
          "state": {
            "_dom_classes": [],
            "_model_module": "@jupyter-widgets/controls",
            "_model_module_version": "1.5.0",
            "_model_name": "HTMLModel",
            "_view_count": null,
            "_view_module": "@jupyter-widgets/controls",
            "_view_module_version": "1.5.0",
            "_view_name": "HTMLView",
            "description": "",
            "description_tooltip": null,
            "layout": "IPY_MODEL_d3a9dbc33b0a4af6841294644d21076f",
            "placeholder": "​",
            "style": "IPY_MODEL_bf9f08571c314f42a212c0e3662a1a0b",
            "value": "special_tokens_map.json: 100%"
          }
        },
        "fc98cec68b29445ebb623462b845374c": {
          "model_module": "@jupyter-widgets/controls",
          "model_module_version": "1.5.0",
          "model_name": "FloatProgressModel",
          "state": {
            "_dom_classes": [],
            "_model_module": "@jupyter-widgets/controls",
            "_model_module_version": "1.5.0",
            "_model_name": "FloatProgressModel",
            "_view_count": null,
            "_view_module": "@jupyter-widgets/controls",
            "_view_module_version": "1.5.0",
            "_view_name": "ProgressView",
            "bar_style": "success",
            "description": "",
            "description_tooltip": null,
            "layout": "IPY_MODEL_db2fc14d543b408ab8bf3a2e428c0d18",
            "max": 650,
            "min": 0,
            "orientation": "horizontal",
            "style": "IPY_MODEL_870d102e27474d1b9f9c825f575de13c",
            "value": 650
          }
        }
      }
    }
  },
  "nbformat": 4,
  "nbformat_minor": 0
}
